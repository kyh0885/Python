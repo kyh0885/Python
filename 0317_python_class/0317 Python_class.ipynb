{
 "cells": [
  {
   "cell_type": "markdown",
   "id": "4bab93a7",
   "metadata": {},
   "source": [
    "# Class"
   ]
  },
  {
   "cell_type": "markdown",
   "id": "880cb370",
   "metadata": {},
   "source": [
    "class.[classname] :\n",
    "    변수 a\n",
    "    변수 b\n",
    "    ...\n",
    "    def method1():\n",
    "        문장1\n",
    "        문장2\n",
    "        ...\n",
    "    def method2():\n",
    "        문장1\n",
    "        문장2\n",
    "        ..."
   ]
  },
  {
   "cell_type": "code",
   "execution_count": 2,
   "id": "82d029f6",
   "metadata": {},
   "outputs": [],
   "source": [
    "class Fruit:\n",
    "    name = 'orange'\n",
    "    color = 'yellow'\n",
    "    \n",
    "    def taste(self):\n",
    "        print('새콤하다')\n",
    "    def vitamin(self):\n",
    "        print('비타민c가 풍부하다')"
   ]
  },
  {
   "cell_type": "code",
   "execution_count": 4,
   "id": "48a779a9",
   "metadata": {},
   "outputs": [
    {
     "name": "stdout",
     "output_type": "stream",
     "text": [
      "<__main__.Fruit object at 0x0000020B22B69DC0>\n",
      "<class '__main__.Fruit'>\n",
      "과일명 : orange\n",
      "색상 : yellow\n",
      "새콤하다\n",
      "비타민c가 풍부하다\n"
     ]
    }
   ],
   "source": [
    "orange = Fruit() #orange 로 class 변수로 선언\n",
    "print(orange)\n",
    "print(type(orange))\n",
    "\n",
    "print('과일명 : {}'.format(orange.name))\n",
    "print('색상 : {}'.format(orange.color))\n",
    "orange.taste()\n",
    "orange.vitamin()"
   ]
  },
  {
   "cell_type": "markdown",
   "id": "19c8d628",
   "metadata": {},
   "source": [
    "self의 의미\n",
    ": class 안에서 사용되는 변수인것을 알수있게 한다. c++의 this 의 역할\n",
    "\n",
    "class Cparent\n",
    "{\n",
    "    int a = 10;\n",
    "    int b = 20;\n",
    "    //생성자\n",
    "    Cparent(){cout<<\"ctor\"<<endl;}\n",
    "    //사용자 정의 생성자\n",
    "    Cparent(/*this*/int a, int b)\n",
    "    {\n",
    "        this.a = a;\n",
    "        this.b = b;\n",
    "        cout<<\"ctor\"<<endl;\n",
    "    }\n",
    "    void Age(this)\n",
    "    {}\n",
    "    ~Cparent(){cout<<\"dtor\"<<endl;}\n",
    "}"
   ]
  },
  {
   "cell_type": "code",
   "execution_count": 5,
   "id": "22cf3693",
   "metadata": {},
   "outputs": [],
   "source": [
    "#Quiz 1\n",
    "\n",
    "class Circle:\n",
    "    radius = 10\n",
    "    \n",
    "    def getArea(self):\n",
    "        area = 3.141592*self.radius*self.radius\n",
    "        return area\n",
    "    def getCircum(self):\n",
    "        circum = 2*3.141592*self.radius\n",
    "        return circum"
   ]
  },
  {
   "cell_type": "code",
   "execution_count": 7,
   "id": "1e275eb6",
   "metadata": {},
   "outputs": [
    {
     "name": "stdout",
     "output_type": "stream",
     "text": [
      "반지름의 길이 : 10\n",
      "원의 면적 : 314.1592\n",
      "원주의 길이 : 62.83184\n"
     ]
    }
   ],
   "source": [
    "cir=Circle()\n",
    "\n",
    "print('반지름의 길이 : {}'.format(cir.radius))\n",
    "print('원의 면적 : {}'.format(cir.getArea()))\n",
    "print('원주의 길이 : {}'.format(cir.getCircum()))"
   ]
  },
  {
   "cell_type": "code",
   "execution_count": 16,
   "id": "d04a0e1d",
   "metadata": {},
   "outputs": [],
   "source": [
    "class Student:\n",
    "    name = '황재호'\n",
    "    kor = 80\n",
    "    eng = 90\n",
    "    math = 100\n",
    "    def getSum(self):\n",
    "        sum = self.kor+self.eng+self.math\n",
    "        return sum\n",
    "    def getAvg(self):\n",
    "        avg = self.getSum()// 3\n",
    "        return avg"
   ]
  },
  {
   "cell_type": "code",
   "execution_count": 17,
   "id": "e04ee127",
   "metadata": {},
   "outputs": [
    {
     "name": "stdout",
     "output_type": "stream",
     "text": [
      "이름 :황재호\n",
      "국어 :80\n",
      "영어 :90\n",
      "수학 :100\n",
      "합계 :270\n",
      "평균 :90\n"
     ]
    }
   ],
   "source": [
    "hwang = Student()\n",
    "\n",
    "print('이름 :{}'.format(hwang.name))\n",
    "print('국어 :{}'.format(hwang.kor))\n",
    "print('영어 :{}'.format(hwang.eng))\n",
    "print('수학 :{}'.format(hwang.math))\n",
    "print('합계 :{}'.format(hwang.getSum()))\n",
    "print('평균 :{}'.format(hwang.getAvg()))\n"
   ]
  },
  {
   "cell_type": "code",
   "execution_count": 19,
   "id": "06a110fc",
   "metadata": {},
   "outputs": [],
   "source": [
    "#class 생성자\n",
    "class Student:\n",
    "    name = '황재호'\n",
    "    kor = 80\n",
    "    eng = 90\n",
    "    math = 100\n",
    "\n",
    "    def __init__(self, name= '황재호', kor= 80, eng= 90, math= 100):\n",
    "        #코드작성\n",
    "        self.name = name\n",
    "        self.kor = kor\n",
    "        self.eng = eng\n",
    "        self.math = math\n",
    "\n",
    "    def getSum(self):\n",
    "        sum = self.kor+self.eng+self.math\n",
    "        return sum\n",
    "    def getAvg(self):\n",
    "        avg = self.getSum()// 3\n",
    "        return avg"
   ]
  },
  {
   "cell_type": "code",
   "execution_count": 23,
   "id": "6df9798a",
   "metadata": {},
   "outputs": [
    {
     "name": "stdout",
     "output_type": "stream",
     "text": [
      "이름 :김연아\n",
      "국어 :90\n",
      "영어 :80\n",
      "수학 :40\n",
      "합계 :210\n",
      "평균 :70\n"
     ]
    }
   ],
   "source": [
    "student = Student('김연아',90,80,40)\n",
    "\n",
    "print('이름 :{}'.format(student.name))\n",
    "print('국어 :{}'.format(student.kor))\n",
    "print('영어 :{}'.format(student.eng))\n",
    "print('수학 :{}'.format(student.math))\n",
    "print('합계 :{}'.format(student.getSum()))\n",
    "print('평균 :{}'.format(student.getAvg()))\n"
   ]
  },
  {
   "cell_type": "code",
   "execution_count": null,
   "id": "b8baf0ab",
   "metadata": {},
   "outputs": [],
   "source": []
  }
 ],
 "metadata": {
  "kernelspec": {
   "display_name": "Python 3 (ipykernel)",
   "language": "python",
   "name": "python3"
  },
  "language_info": {
   "codemirror_mode": {
    "name": "ipython",
    "version": 3
   },
   "file_extension": ".py",
   "mimetype": "text/x-python",
   "name": "python",
   "nbconvert_exporter": "python",
   "pygments_lexer": "ipython3",
   "version": "3.9.13"
  }
 },
 "nbformat": 4,
 "nbformat_minor": 5
}
