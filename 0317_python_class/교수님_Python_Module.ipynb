{
 "cells": [
  {
   "cell_type": "code",
   "execution_count": 4,
   "id": "54880a91",
   "metadata": {},
   "outputs": [],
   "source": [
    "def hello(name):\n",
    "    print('{} 님 안녕하세요'.format(name))\n",
    "\n",
    "\n",
    "def niceMeet(name):\n",
    "    print('{} 님 만나서 반갑습니다.'.format(name))"
   ]
  },
  {
   "cell_type": "code",
   "execution_count": null,
   "id": "ebdc2d2d",
   "metadata": {},
   "outputs": [],
   "source": []
  },
  {
   "cell_type": "code",
   "execution_count": 5,
   "id": "ab375b63",
   "metadata": {},
   "outputs": [
    {
     "name": "stdout",
     "output_type": "stream",
     "text": [
      "김연아 님 안녕하세요\n"
     ]
    }
   ],
   "source": [
    "hello('김연아')"
   ]
  },
  {
   "cell_type": "code",
   "execution_count": 6,
   "id": "c13d947c",
   "metadata": {},
   "outputs": [
    {
     "name": "stdout",
     "output_type": "stream",
     "text": [
      "김연아 님 만나서 반갑습니다.\n"
     ]
    }
   ],
   "source": [
    "niceMeet('김연아')"
   ]
  },
  {
   "cell_type": "code",
   "execution_count": 7,
   "id": "b14e51ef",
   "metadata": {},
   "outputs": [],
   "source": [
    "import greet"
   ]
  },
  {
   "cell_type": "code",
   "execution_count": 8,
   "id": "6413c03d",
   "metadata": {},
   "outputs": [
    {
     "name": "stdout",
     "output_type": "stream",
     "text": [
      "김연아 님 안녕하세요\n"
     ]
    }
   ],
   "source": [
    "greet.hello('김연아')"
   ]
  },
  {
   "cell_type": "code",
   "execution_count": 9,
   "id": "b795f234",
   "metadata": {},
   "outputs": [
    {
     "name": "stdout",
     "output_type": "stream",
     "text": [
      "김연아 님 만나서 반갑습니다.\n"
     ]
    }
   ],
   "source": [
    "greet.niceMeet('김연아')"
   ]
  },
  {
   "cell_type": "code",
   "execution_count": 10,
   "id": "73fda7a3",
   "metadata": {},
   "outputs": [],
   "source": [
    "from greet import hello, niceMeet"
   ]
  },
  {
   "cell_type": "code",
   "execution_count": 11,
   "id": "081f9ef6",
   "metadata": {},
   "outputs": [
    {
     "name": "stdout",
     "output_type": "stream",
     "text": [
      "홍길동 님 안녕하세요\n"
     ]
    }
   ],
   "source": [
    "hello('홍길동')"
   ]
  },
  {
   "cell_type": "code",
   "execution_count": 12,
   "id": "b5057360",
   "metadata": {},
   "outputs": [
    {
     "name": "stdout",
     "output_type": "stream",
     "text": [
      "홍길동 님 만나서 반갑습니다.\n"
     ]
    }
   ],
   "source": [
    "niceMeet('홍길동')"
   ]
  },
  {
   "cell_type": "code",
   "execution_count": null,
   "id": "2fe8ccbc",
   "metadata": {},
   "outputs": [],
   "source": []
  },
  {
   "cell_type": "code",
   "execution_count": 13,
   "id": "c0d59c53",
   "metadata": {},
   "outputs": [],
   "source": [
    "import math"
   ]
  },
  {
   "cell_type": "code",
   "execution_count": 19,
   "id": "d096e861",
   "metadata": {},
   "outputs": [
    {
     "name": "stdout",
     "output_type": "stream",
     "text": [
      "math.floor(a) :3\n",
      "math.ceil(a) :4\n",
      "round(a) :4\n",
      "math.factorial(round(a) :24\n"
     ]
    }
   ],
   "source": [
    "a = 3.6\n",
    "print('math.floor(a) :' + str(math.floor(a)))\n",
    "print('math.ceil(a) :' + str(math.ceil(a)))\n",
    "print('round(a) :' + str(round(a)))\n",
    "print('math.factorial(round(a) :' + str(math.factorial(round(a))))"
   ]
  },
  {
   "cell_type": "code",
   "execution_count": 25,
   "id": "80ca03c2",
   "metadata": {},
   "outputs": [
    {
     "name": "stdout",
     "output_type": "stream",
     "text": [
      "0.7071067811865476\n",
      "6.123233995736766e-17\n",
      "0.5773502691896257\n"
     ]
    }
   ],
   "source": [
    "b = math.sin(math.pi/4)\n",
    "print(b)\n",
    "b = math.cos(math.pi/2)\n",
    "print(b)\n",
    "b = math.tan(math.pi/6)\n",
    "print(b)"
   ]
  },
  {
   "cell_type": "code",
   "execution_count": 29,
   "id": "0e0ef7ad",
   "metadata": {},
   "outputs": [
    {
     "name": "stdout",
     "output_type": "stream",
     "text": [
      "8.0\n",
      "12.0\n",
      "3.0\n"
     ]
    }
   ],
   "source": [
    "c = math.pow(2,3)\n",
    "print(c)\n",
    "c = math.sqrt(144)\n",
    "print(c)\n",
    "c = math.log10(1000)\n",
    "print(c)"
   ]
  },
  {
   "cell_type": "code",
   "execution_count": 59,
   "id": "fdd019f5",
   "metadata": {},
   "outputs": [],
   "source": [
    "import random"
   ]
  },
  {
   "cell_type": "code",
   "execution_count": 93,
   "id": "deaee16a",
   "metadata": {},
   "outputs": [
    {
     "name": "stdout",
     "output_type": "stream",
     "text": [
      "6\n",
      "1\n"
     ]
    }
   ],
   "source": [
    "x = random.randint(1,6)\n",
    "print(x)\n",
    "y = random.randint(1,6)\n",
    "print(y)"
   ]
  },
  {
   "cell_type": "code",
   "execution_count": 6,
   "id": "2249631c",
   "metadata": {},
   "outputs": [
    {
     "name": "stdout",
     "output_type": "stream",
     "text": [
      "가위-1, 바위-2, 보-3  (0-종료)  : 1\n",
      "인간 vs AI 결과\n",
      " 가위      보\n",
      "AI의 승리입니다.\n",
      "가위-1, 바위-2, 보-3  (0-종료)  : 0\n"
     ]
    }
   ],
   "source": [
    "import random\n",
    "msg = {1: '가위', 2: '바위', 3: '보'}\n",
    "while True:\n",
    "    me = int(input('가위-1, 바위-2, 보-3  (0-종료)  : '))\n",
    "    if me == 0:\n",
    "        break\n",
    "    ai = random.randint(1, 3)\n",
    "    print('인간 vs AI 결과')\n",
    "    print(' {}      {}'.format(msg[me], msg[ai]))\n",
    "    if me > ai:\n",
    "        print('당신의 승리입니다.')\n",
    "    elif me < ai:\n",
    "        print('AI의 승리입니다.')\n",
    "    else:\n",
    "        print('무승부입니다.')"
   ]
  },
  {
   "cell_type": "markdown",
   "id": "20916fc8",
   "metadata": {},
   "source": [
    "# datetime module"
   ]
  },
  {
   "cell_type": "code",
   "execution_count": 1,
   "id": "ae40c621",
   "metadata": {},
   "outputs": [],
   "source": [
    "from datetime import datetime\n",
    "import time"
   ]
  },
  {
   "cell_type": "code",
   "execution_count": 2,
   "id": "5a409887",
   "metadata": {},
   "outputs": [
    {
     "name": "stdout",
     "output_type": "stream",
     "text": [
      "2023-03-16 13:21:36.747028\n",
      "<class 'datetime.datetime'>\n"
     ]
    }
   ],
   "source": [
    "today = datetime.now()\n",
    "print(today)\n",
    "print(type(today))"
   ]
  },
  {
   "cell_type": "code",
   "execution_count": 8,
   "id": "4b392b9b",
   "metadata": {},
   "outputs": [
    {
     "name": "stdout",
     "output_type": "stream",
     "text": [
      "2023-03-16 13:25:54.606938\n",
      "year is 2023\n",
      "month is 3\n",
      "day is 16\n",
      "hour is 13\n",
      "minute is 25\n",
      "second is 54\n",
      "microsecond is 606938\n",
      "2023-03-16 13:25:59.610190\n",
      "year is 2023\n",
      "month is 3\n",
      "day is 16\n",
      "hour is 13\n",
      "minute is 25\n",
      "second is 59\n",
      "microsecond is 610190\n",
      "now - pre time is : 0:00:05.003252\n"
     ]
    }
   ],
   "source": [
    "from datetime import datetime\n",
    "import time\n",
    "\n",
    "pre = datetime.now()\n",
    "print(pre)\n",
    "print('year is {}'.format(pre.year))\n",
    "print('month is {}'.format(pre.month))\n",
    "print('day is {}'.format(pre.day))\n",
    "print('hour is {}'.format(pre.hour))\n",
    "print('minute is {}'.format(pre.minute))\n",
    "print('second is {}'.format(pre.second))\n",
    "print('microsecond is {:06d}'.format(pre.microsecond))\n",
    "\n",
    "time.sleep(5)\n",
    "\n",
    "now = datetime.now()\n",
    "print(now)\n",
    "print('year is {}'.format(now.year))\n",
    "print('month is {}'.format(now.month))\n",
    "print('day is {}'.format(now.day))\n",
    "print('hour is {}'.format(now.hour))\n",
    "print('minute is {}'.format(now.minute))\n",
    "print('second is {}'.format(now.second))\n",
    "print('microsecond is {:06d}'.format(now.microsecond))\n",
    "\n",
    "print('now - pre time is : {}'.format(now-pre))"
   ]
  },
  {
   "cell_type": "code",
   "execution_count": 10,
   "id": "b83b1066",
   "metadata": {},
   "outputs": [
    {
     "name": "stdout",
     "output_type": "stream",
     "text": [
      "2023-03-16 13:28:27.220282\n"
     ]
    }
   ],
   "source": [
    "from datetime import datetime\n",
    "import time\n",
    "today = datetime.now()\n",
    "print(today)\n",
    "today_str = today.strftime('%Y/%m/%d%H:%M:%S')"
   ]
  },
  {
   "cell_type": "markdown",
   "id": "df9a64f8",
   "metadata": {},
   "source": [
    "# Logger Fuction 작성해 보세요\n",
    "형식.... logging.csv\n",
    "시간                           사람          AI      승리\n",
    "2023-03-16 13:28:27.220282     가위          보      사람\n",
    "2023-03-16 13:28:28.220282     바위          바위    무승부\n",
    "2023-03-16 13:28:29.220282     보            가위    AI\n",
    "2023-03-16 13:28:30.220282     가위          보      사람\n",
    "//csv\n",
    "open    logging.csv\n",
    "write   시간,사람,AI,승리\\n\n",
    "close\n",
    "//재료\n",
    "file i/o\n",
    "function (사람, AI)\n",
    "   return 승리자\n",
    "//로직\n",
    "while \n",
    "   input 사람\n",
    "   radom AI\n",
    "   call function()\n",
    "   save log"
   ]
  },
  {
   "cell_type": "markdown",
   "id": "517deed0",
   "metadata": {},
   "source": [
    "# 코딩...? 제일 먼저 무엇을 시작해야 하나요?"
   ]
  },
  {
   "cell_type": "code",
   "execution_count": 23,
   "id": "6e4c9b07",
   "metadata": {},
   "outputs": [],
   "source": []
  },
  {
   "cell_type": "code",
   "execution_count": 4,
   "id": "d02438cb",
   "metadata": {},
   "outputs": [
    {
     "name": "stdout",
     "output_type": "stream",
     "text": [
      "가위,바위,보가위\n",
      "가위,바위,보가위\n",
      "가위,바위,보가위\n",
      "가위,바위,보가위\n",
      "가위,바위,보가위\n",
      "가위,바위,보가위\n",
      "가위,바위,보가위\n",
      "가위,바위,보가위\n",
      "가위,바위,보가위\n",
      "가위,바위,보가위\n",
      "가위,바위,보가위\n",
      "가위,바위,보가위\n",
      "가위,바위,보가위\n",
      "가위,바위,보가위\n",
      "가위,바위,보가위\n",
      "가위,바위,보가위\n",
      "가위,바위,보가위\n",
      "가위,바위,보가위\n",
      "가위,바위,보가위\n",
      "가위,바위,보가위\n",
      "가위,바위,보가위\n",
      "가위,바위,보가위\n",
      "가위,바위,보가위\n",
      "가위,바위,보가위\n",
      "가위,바위,보가위\n",
      "가위,바위,보가위\n",
      "가위,바위,보ㅍ\n",
      "continue\n",
      "가위,바위,보가위\n",
      "가위,바위,보가위\n",
      "가위,바위,보가위\n",
      "가위,바위,보가위\n",
      "가위,바위,보가위\n",
      "가위,바위,보가위\n",
      "가위,바위,보가위\n",
      "가위,바위,보가위\n",
      "가위,바위,보가위\n",
      "가위,바위,보가위\n",
      "가위,바위,보가위\n",
      "가위,바위,보가위\n",
      "가위,바위,보가위\n",
      "가위,바위,보가위\n",
      "가위,바위,보가위\n",
      "가위,바위,보가위\n",
      "가위,바위,보가위\n",
      "가위,바위,보가위\n",
      "가위,바위,보가위\n",
      "가위,바위,보가위\n",
      "가위,바위,보가위\n",
      "가위,바위,보가위\n",
      "가위,바위,보가위\n",
      "가위,바위,보가위\n",
      "가위,바위,보가위\n",
      "가위,바위,보가위\n",
      "가위,바위,보가위\n",
      "가위,바위,보가위\n",
      "가위,바위,보가위\n",
      "가위,바위,보가위\n",
      "가위,바위,보가위\n",
      "가위,바위,보가위\n",
      "가위,바위,보가위\n",
      "가위,바위,보가위\n",
      "가위,바위,보가위\n",
      "가위,바위,보가위\n",
      "가위,바위,보가위\n",
      "가위,바위,보가위\n",
      "가위,바위,보가위\n",
      "가위,바위,보가위\n",
      "가위,바위,보가위\n",
      "가위,바위,보가위\n",
      "가위,바위,보가위\n",
      "가위,바위,보가위\n",
      "가위,바위,보가위\n",
      "가위,바위,보가위\n",
      "가위,바위,보가위\n",
      "가위,바위,보가위\n",
      "가위,바위,보가위\n",
      "가위,바위,보가위\n",
      "가위,바위,보가위\n",
      "가위,바위,보가위\n",
      "가위,바위,보가위\n",
      "가위,바위,보가위\n",
      "가위,바위,보가위\n",
      "가위,바위,보ㅍ\n",
      "continue\n",
      "가위,바위,보가위\n",
      "가위,바위,보가위\n",
      "가위,바위,보가위\n",
      "가위,바위,보가위\n",
      "가위,바위,보가위\n",
      "가위,바위,보가위\n",
      "가위,바위,보가위\n",
      "가위,바위,보가위\n",
      "가위,바위,보가위\n",
      "가위,바위,보가위\n",
      "가위,바위,보가위\n",
      "가위,바위,보가위\n",
      "가위,바위,보가위\n",
      "가위,바위,보가위\n",
      "가위,바위,보가위\n",
      "가위,바위,보가위\n",
      "가위,바위,보종료\n",
      "종료합니다\n"
     ]
    }
   ],
   "source": [
    "from datetime import datetime\n",
    "import random\n",
    "\n",
    "# write Header\n",
    "file = open('log.csv', 'w')\n",
    "file.write('시간,사람,AI,승리\\n')\n",
    "file.close()\n",
    "\n",
    "\n",
    "human = '가위'\n",
    "ai = '보'\n",
    "winner = '사람'\n",
    "\n",
    "\n",
    "def chatKMJ(human, ai):\n",
    "    if(ai == '가위'):\n",
    "        if(human == '바위'):\n",
    "            result = '사람'\n",
    "        elif(human == '가위'):\n",
    "            result = '무승부'\n",
    "        elif(human == '보'):\n",
    "            result = 'AI'\n",
    "    elif(ai == '보'):\n",
    "        if(human == '가위'):\n",
    "            result = '사람'\n",
    "        elif(human == '보'):\n",
    "            result = '무승부'\n",
    "        elif(human == '바위'):\n",
    "            result = 'AI'\n",
    "    elif(ai == '바위'):\n",
    "        if(human == '보'):\n",
    "            result = '사람'\n",
    "        elif(human == '바위'):\n",
    "            result = '무승부'\n",
    "        elif(human == '가위'):\n",
    "            result = 'AI'\n",
    "    return result\n",
    "\n",
    "\n",
    "# write log\n",
    "while True:\n",
    "    human = input('가위,바위,보')\n",
    "    ai = random.choice(['가위', '바위', '보'])\n",
    "\n",
    "    if(human == '종료'):\n",
    "        print('종료합니다')\n",
    "        break\n",
    "    elif not(human == '가위' or human == '바위' or human == '보'):\n",
    "        print('continue')\n",
    "        continue\n",
    "\n",
    "    winner = chatKMJ(human, ai)\n",
    "\n",
    "    today = datetime.now()\n",
    "    file = open('log.csv', 'a')\n",
    "    file.write('\\'{},{},{},{}\\n'.format(today, human, ai, winner))\n",
    "    file.close()"
   ]
  },
  {
   "cell_type": "code",
   "execution_count": 5,
   "id": "a33fa534",
   "metadata": {},
   "outputs": [
    {
     "name": "stdout",
     "output_type": "stream",
     "text": [
      "Thank you chatKMJ\n"
     ]
    }
   ],
   "source": [
    "print('Thank you chatKMJ')"
   ]
  },
  {
   "cell_type": "markdown",
   "id": "9178babf",
   "metadata": {},
   "source": [
    "# Thank you chatKMJ"
   ]
  },
  {
   "cell_type": "code",
   "execution_count": 6,
   "id": "0991ee9b",
   "metadata": {},
   "outputs": [
    {
     "ename": "SyntaxError",
     "evalue": "invalid syntax (218214083.py, line 1)",
     "output_type": "error",
     "traceback": [
      "\u001b[1;36m  File \u001b[1;32m\"C:\\Users\\KCCI\\AppData\\Local\\Temp\\ipykernel_8324\\218214083.py\"\u001b[1;36m, line \u001b[1;32m1\u001b[0m\n\u001b[1;33m    chatKMJ > ... 덧셈 교환 법칙 증명 코드를 작성해줘\u001b[0m\n\u001b[1;37m                  ^\u001b[0m\n\u001b[1;31mSyntaxError\u001b[0m\u001b[1;31m:\u001b[0m invalid syntax\n"
     ]
    }
   ],
   "source": [
    "chatKMJ > ... 덧셈 교환 법칙 증명 코드를 작성해줘"
   ]
  },
  {
   "cell_type": "code",
   "execution_count": 8,
   "id": "b764d4ec",
   "metadata": {},
   "outputs": [
    {
     "name": "stdout",
     "output_type": "stream",
     "text": [
      "1st 입력 : 10\n",
      "2nd 입력 : 20\n",
      "10+20=30\n",
      "20+10=30\n",
      "덧셈의 교환법칙이 성립합니다.\n"
     ]
    }
   ],
   "source": [
    "a = int(input('1st 입력 : '))\n",
    "b = int(input('2nd 입력 : '))\n",
    "c = a+b\n",
    "d = b+a\n",
    "if c == d:\n",
    "    print('{}+{}={}'.format(a, b, c))\n",
    "    print('{}+{}={}'.format(b, a, d))\n",
    "    print('덧셈의 교환법칙이 성립합니다.')\n",
    "else:\n",
    "    print('덧셈의 교환법칙이 성립하지 않습니다.')"
   ]
  },
  {
   "cell_type": "markdown",
   "id": "1595129a",
   "metadata": {},
   "source": [
    "# 바코드 암호화 / 복호화 코드를 작성해줘"
   ]
  },
  {
   "cell_type": "code",
   "execution_count": null,
   "id": "f267c806",
   "metadata": {},
   "outputs": [],
   "source": [
    "123 -> :::||::|:|::||: 으로 출력\n",
    ":::||::|:|::||: -> 123 으로 출력 하는 코드를 작성해주세요"
   ]
  },
  {
   "cell_type": "code",
   "execution_count": null,
   "id": "4de102cd",
   "metadata": {},
   "outputs": [],
   "source": [
    "123 -> :::||    ::|:|      ::||:"
   ]
  },
  {
   "cell_type": "code",
   "execution_count": 50,
   "id": "202de7ef",
   "metadata": {},
   "outputs": [
    {
     "name": "stdout",
     "output_type": "stream",
     "text": [
      "||::: :::||\n",
      "<class 'list'>\n"
     ]
    },
    {
     "data": {
      "text/plain": [
       "\"secretCode = {0:'||:::',1:':::||',2:'::|:|',3:'::||:',4:':|::|',\\n              5:':|:|:',6:':||::',7:'|:::|',8:'|::|:',9:'|:|::'}\\nprint(secretCode[0],secretCode[1])\\nprint(type(secretCode))\""
      ]
     },
     "execution_count": 50,
     "metadata": {},
     "output_type": "execute_result"
    }
   ],
   "source": [
    "secretCode = ['||:::', ':::||', '::|:|', '::||:', ':|::|',\n",
    "              ':|:|:', ':||::', '|:::|', '|::|:', '|:|::']\n",
    "print(secretCode[0], secretCode[1])\n",
    "print(type(secretCode))\n",
    "'''secretCode = {0:'||:::',1:':::||',2:'::|:|',3:'::||:',4:':|::|',\n",
    "              5:':|:|:',6:':||::',7:'|:::|',8:'|::|:',9:'|:|::'}\n",
    "print(secretCode[0],secretCode[1])\n",
    "print(type(secretCode))'''"
   ]
  },
  {
   "cell_type": "markdown",
   "id": "eb4be88b",
   "metadata": {},
   "source": [
    "# 1단계 : 123 -> :::||::|:|::||:"
   ]
  },
  {
   "cell_type": "code",
   "execution_count": 66,
   "id": "0e873da2",
   "metadata": {},
   "outputs": [
    {
     "name": "stdout",
     "output_type": "stream",
     "text": [
      "123->:::||::|:|::||:\n"
     ]
    }
   ],
   "source": [
    "strNums = '123'\n",
    "\n",
    "# print(type(strNums))#int -> string ... char char char... char\n",
    "# 1\n",
    "#print('[1] '+secretCode[1])\n",
    "# 2\n",
    "#print('[2] '+secretCode[2])\n",
    "# 3\n",
    "#print('[3] '+secretCode[3])\n",
    "\n",
    "\n",
    "def ConvertNumsToBarCode(strNums):\n",
    "    strBarCodes = ''\n",
    "    for n in strNums:\n",
    "        # print(n)\n",
    "        # print(type(n))\n",
    "        #print('{} '.format(n)+secretCode[int(n)])\n",
    "        strBarCodes = strBarCodes + secretCode[int(n)]\n",
    "    #print(strNums + '->'+ strBarCodes)\n",
    "    return strBarCodes\n",
    "\n",
    "\n",
    "strBarCodes = ConvertNumsToBarCode(strNums)\n",
    "print(strNums + '->' + strBarCodes)\n",
    "# 1단계 : 123 -> :::||::|:|::||:"
   ]
  },
  {
   "cell_type": "code",
   "execution_count": 68,
   "id": "44fdf5ea",
   "metadata": {},
   "outputs": [
    {
     "name": "stdout",
     "output_type": "stream",
     "text": [
      "123->:::||::|:|::||:\n"
     ]
    }
   ],
   "source": [
    "strNums = '123'\n",
    "def ConvertNumsToBarCode(strNums):\n",
    "    strBarCodes = ''\n",
    "    for n in strNums:\n",
    "        strBarCodes += secretCode[int(n)]\n",
    "    return strBarCodes\n",
    "\n",
    "strBarCodes = ConvertNumsToBarCode(strNums)\n",
    "print(strNums + '->'+ strBarCodes)"
   ]
  },
  {
   "cell_type": "markdown",
   "id": "551f8057",
   "metadata": {},
   "source": [
    "# 2단계 : :::||::|:|::||: -> 123"
   ]
  },
  {
   "cell_type": "code",
   "execution_count": 95,
   "id": "55dec263",
   "metadata": {},
   "outputs": [
    {
     "name": "stdout",
     "output_type": "stream",
     "text": [
      "[0] :||:::,   [0] Size : 5\n",
      "======================================================================\n",
      "function param : :::||::|:|::||:\n",
      "intputSize - 15\n",
      "ptrnSize - 5\n",
      "stepSize - 3\n",
      "sub string ptrn - :::||\n",
      "sub string ptrn - ::|:|\n",
      "sub string ptrn - ::||:\n"
     ]
    }
   ],
   "source": [
    "strBarcodes = ':::||::|:|::||:'\n",
    "\n",
    "print('[0] :'+secretCode[0] + ',   [0] Size : ' + str(len(secretCode[0])))\n",
    "print('='*70)\n",
    "\n",
    "\n",
    "def ConvertBarCodeToNums(strBarCodes):\n",
    "    print('function param : ' + strBarCodes)\n",
    "    #:::||::|:|::||: ... input 15 ... inputSize\n",
    "    #:::||           ... div    5 ... ptrnSize\n",
    "    #                    step   3 ... stepSize\n",
    "    intputSize = len(strBarCodes)  # 15\n",
    "    ptrnSize = len(secretCode[0])  # 5\n",
    "    stepSize = int(intputSize / ptrnSize)  # 3\n",
    "    print('intputSize - ' + str(intputSize))\n",
    "    print('ptrnSize - ' + str(ptrnSize))\n",
    "    print('stepSize - ' + str(stepSize))\n",
    "\n",
    "    # for(int n=0; n<inputSize; n+=stepSize)\n",
    "    for n in range(0, intputSize, ptrnSize):\n",
    "        # ptrn1 = strBarCodes[0:0+5]#0->n, 5->ptrnSize\n",
    "        ptrn = strBarCodes[n:n+ptrnSize]  # 0->n, 5->ptrnSize\n",
    "        print('sub string ptrn - ' + ptrn)\n",
    "\n",
    "    # var -> for iterable\n",
    "    # ptrn1 = strBarCodes[0:0+5]#1   jump 5\n",
    "    # ptrn2 = strBarCodes[5:5+5]#2   jump 5\n",
    "    # ptrn3 = strBarCodes[10:10+5]#3\n",
    "\n",
    "    #print('sub string ptrn1 - ' + ptrn1)\n",
    "\n",
    "\n",
    "ConvertBarCodeToNums(strBarCodes)"
   ]
  },
  {
   "cell_type": "code",
   "execution_count": 113,
   "id": "e9cd2fd3",
   "metadata": {},
   "outputs": [
    {
     "name": "stdout",
     "output_type": "stream",
     "text": [
      "Barcodes - :::||::|:|::||:\n",
      "Nums - 123\n"
     ]
    }
   ],
   "source": [
    "strBarcodes = ':::||::|:|::||:'\n",
    "\n",
    "\n",
    "def ConvertBarCodeToNums1(strBarCodes):\n",
    "    intputSize = len(strBarCodes)  # 15\n",
    "    ptrnSize = len(secretCode[0])  # 5\n",
    "    strfindNums = ''\n",
    "    for n in range(0, intputSize, ptrnSize):\n",
    "        ptrn = strBarCodes[n:n+ptrnSize]  # 0->n, 5->ptrnSize\n",
    "        idx = 0\n",
    "        find_idx = 0\n",
    "        # get index -> value ... 0 index....0 value [LIST]\n",
    "        for code in secretCode:\n",
    "            if code == ptrn:\n",
    "                find_idx = idx\n",
    "                strfindNums += str(find_idx)\n",
    "                break\n",
    "            else:\n",
    "                idx += 1\n",
    "    return strfindNums\n",
    "\n",
    "\n",
    "def ConvertBarCodeToNums2(strBarcodes):\n",
    "    ptrnSz = len(secretCode[0])\n",
    "    ptrnCount = len(strBarcodes)/ptrnSz\n",
    "    ptrnNums = ''\n",
    "    for x in range(0, len(strBarcodes), ptrnSz):\n",
    "        ptrn = strBarcodes[x:x+ptrnSz]\n",
    "        for k in range(len(secretCode)):\n",
    "            if ptrn == secretCode[k]:\n",
    "                ptrnNums += str(k)\n",
    "    return ptrnNums\n",
    "\n",
    "\n",
    "print('Barcodes - {}'.format(strBarcodes))\n",
    "strNums = ConvertBarCodeToNums2(strBarCodes)\n",
    "print('Nums - {}'.format(strNums))"
   ]
  },
  {
   "cell_type": "code",
   "execution_count": null,
   "id": "ba2949e1",
   "metadata": {},
   "outputs": [],
   "source": [
    "#input output 출력까지 완료하세요"
   ]
  },
  {
   "cell_type": "code",
   "execution_count": null,
   "id": "38350403",
   "metadata": {},
   "outputs": [],
   "source": []
  },
  {
   "cell_type": "code",
   "execution_count": null,
   "id": "348e032b",
   "metadata": {},
   "outputs": [],
   "source": []
  },
  {
   "cell_type": "code",
   "execution_count": null,
   "id": "820152be",
   "metadata": {},
   "outputs": [],
   "source": []
  },
  {
   "cell_type": "code",
   "execution_count": null,
   "id": "126d364f",
   "metadata": {},
   "outputs": [],
   "source": []
  },
  {
   "cell_type": "code",
   "execution_count": null,
   "id": "05b18e72",
   "metadata": {},
   "outputs": [],
   "source": []
  },
  {
   "cell_type": "code",
   "execution_count": null,
   "id": "c448d07c",
   "metadata": {},
   "outputs": [],
   "source": []
  },
  {
   "cell_type": "code",
   "execution_count": null,
   "id": "55551eaa",
   "metadata": {},
   "outputs": [],
   "source": []
  },
  {
   "cell_type": "code",
   "execution_count": null,
   "id": "03bfa5af",
   "metadata": {},
   "outputs": [],
   "source": []
  },
  {
   "cell_type": "code",
   "execution_count": null,
   "id": "b1c64128",
   "metadata": {},
   "outputs": [],
   "source": []
  },
  {
   "cell_type": "code",
   "execution_count": null,
   "id": "400abdb7",
   "metadata": {},
   "outputs": [],
   "source": []
  },
  {
   "cell_type": "code",
   "execution_count": 1,
   "id": "552582e0",
   "metadata": {
    "ExecuteTime": {
     "end_time": "2023-03-17T04:53:05.556051Z",
     "start_time": "2023-03-17T04:53:05.547075Z"
    }
   },
   "outputs": [
    {
     "ename": "SyntaxError",
     "evalue": "invalid syntax (288013870.py, line 1)",
     "output_type": "error",
     "traceback": [
      "\u001b[1;36m  File \u001b[1;32m\"C:\\Users\\KCCI\\AppData\\Local\\Temp\\ipykernel_16796\\288013870.py\"\u001b[1;36m, line \u001b[1;32m1\u001b[0m\n\u001b[1;33m    [index access] for(int i=0\u001b[0m\n\u001b[1;37m           ^\u001b[0m\n\u001b[1;31mSyntaxError\u001b[0m\u001b[1;31m:\u001b[0m invalid syntax\n"
     ]
    }
   ],
   "source": [
    "'''[index access] for(int i=0\n",
    "                   i < 10\n",
    "                   i++) = > for i in range(0, 10, 1)...iterable\n",
    "for i in range(len(secretCodes))\n",
    "\n",
    "\n",
    "[pointer] for(auto i=v.begin()\n",
    "              i != v.end()\n",
    "              i++)\n",
    "std: : vector < int > v\n",
    "v[0]\n",
    "v.begin()\n",
    "for x in secretCodes:  # secretCodes   ...iterable'''"
   ]
  },
  {
   "cell_type": "code",
   "execution_count": null,
   "id": "e6e62849",
   "metadata": {},
   "outputs": [],
   "source": []
  },
  {
   "cell_type": "code",
   "execution_count": null,
   "id": "817fd14e",
   "metadata": {},
   "outputs": [],
   "source": []
  },
  {
   "cell_type": "code",
   "execution_count": null,
   "id": "1f592ca8",
   "metadata": {},
   "outputs": [],
   "source": []
  },
  {
   "cell_type": "code",
   "execution_count": null,
   "id": "8918aa68",
   "metadata": {},
   "outputs": [],
   "source": []
  },
  {
   "cell_type": "code",
   "execution_count": null,
   "id": "e74f3aa0",
   "metadata": {},
   "outputs": [],
   "source": []
  },
  {
   "cell_type": "code",
   "execution_count": null,
   "id": "0e939ad8",
   "metadata": {},
   "outputs": [],
   "source": []
  },
  {
   "cell_type": "code",
   "execution_count": null,
   "id": "eb5c2d87",
   "metadata": {},
   "outputs": [],
   "source": []
  },
  {
   "cell_type": "code",
   "execution_count": null,
   "id": "5dc1d2c8",
   "metadata": {},
   "outputs": [],
   "source": []
  },
  {
   "cell_type": "code",
   "execution_count": null,
   "id": "ef686292",
   "metadata": {},
   "outputs": [],
   "source": []
  },
  {
   "cell_type": "code",
   "execution_count": null,
   "id": "3f694ec6",
   "metadata": {},
   "outputs": [],
   "source": []
  },
  {
   "cell_type": "code",
   "execution_count": null,
   "id": "4a5c56ee",
   "metadata": {},
   "outputs": [],
   "source": []
  },
  {
   "cell_type": "code",
   "execution_count": null,
   "id": "2d80535b",
   "metadata": {},
   "outputs": [],
   "source": []
  },
  {
   "cell_type": "code",
   "execution_count": null,
   "id": "7d69c54e",
   "metadata": {},
   "outputs": [],
   "source": []
  },
  {
   "cell_type": "code",
   "execution_count": null,
   "id": "15121b37",
   "metadata": {},
   "outputs": [],
   "source": []
  },
  {
   "cell_type": "code",
   "execution_count": null,
   "id": "65cba5ae",
   "metadata": {},
   "outputs": [],
   "source": []
  },
  {
   "cell_type": "code",
   "execution_count": null,
   "id": "f7a909e1",
   "metadata": {},
   "outputs": [],
   "source": []
  },
  {
   "cell_type": "code",
   "execution_count": null,
   "id": "c3c6c425",
   "metadata": {},
   "outputs": [],
   "source": []
  },
  {
   "cell_type": "code",
   "execution_count": null,
   "id": "1db8451e",
   "metadata": {},
   "outputs": [],
   "source": []
  },
  {
   "cell_type": "code",
   "execution_count": null,
   "id": "e21ca24b",
   "metadata": {},
   "outputs": [],
   "source": []
  },
  {
   "cell_type": "code",
   "execution_count": null,
   "id": "e2c391e0",
   "metadata": {},
   "outputs": [],
   "source": []
  },
  {
   "cell_type": "code",
   "execution_count": null,
   "id": "3c14dcd1",
   "metadata": {},
   "outputs": [],
   "source": []
  },
  {
   "cell_type": "code",
   "execution_count": null,
   "id": "923b1d1e",
   "metadata": {},
   "outputs": [],
   "source": []
  },
  {
   "cell_type": "code",
   "execution_count": null,
   "id": "df07ecfe",
   "metadata": {},
   "outputs": [],
   "source": []
  },
  {
   "cell_type": "code",
   "execution_count": null,
   "id": "71bf5f6b",
   "metadata": {},
   "outputs": [],
   "source": []
  },
  {
   "cell_type": "code",
   "execution_count": null,
   "id": "1676c56a",
   "metadata": {},
   "outputs": [],
   "source": []
  },
  {
   "cell_type": "code",
   "execution_count": null,
   "id": "07093779",
   "metadata": {},
   "outputs": [],
   "source": []
  },
  {
   "cell_type": "code",
   "execution_count": null,
   "id": "8b235932",
   "metadata": {},
   "outputs": [],
   "source": []
  },
  {
   "cell_type": "code",
   "execution_count": null,
   "id": "b1a5655e",
   "metadata": {},
   "outputs": [],
   "source": []
  },
  {
   "cell_type": "code",
   "execution_count": null,
   "id": "1c69494d",
   "metadata": {},
   "outputs": [],
   "source": []
  },
  {
   "cell_type": "code",
   "execution_count": null,
   "id": "3eee19ef",
   "metadata": {},
   "outputs": [],
   "source": []
  },
  {
   "cell_type": "code",
   "execution_count": null,
   "id": "a88d2b4a",
   "metadata": {},
   "outputs": [],
   "source": []
  },
  {
   "cell_type": "code",
   "execution_count": null,
   "id": "d0afd308",
   "metadata": {},
   "outputs": [],
   "source": []
  },
  {
   "cell_type": "code",
   "execution_count": null,
   "id": "7899394e",
   "metadata": {},
   "outputs": [],
   "source": []
  },
  {
   "cell_type": "code",
   "execution_count": null,
   "id": "29218ce6",
   "metadata": {},
   "outputs": [],
   "source": []
  },
  {
   "cell_type": "code",
   "execution_count": 3,
   "id": "976625f2",
   "metadata": {
    "ExecuteTime": {
     "end_time": "2023-03-17T04:53:38.637902Z",
     "start_time": "2023-03-17T04:53:38.626931Z"
    }
   },
   "outputs": [
    {
     "name": "stdout",
     "output_type": "stream",
     "text": [
      "['||:::', ':::||', '::|:|', '::||:', ':|::|', ':|:|:', ':||::', '|:::|', '|::|:', '|:|::']\n"
     ]
    }
   ],
   "source": [
    "secret = ['||:::', ':::||', '::|:|', '::||:', ':|::|',\n",
    "          ':|:|:', ':||::', '|:::|', '|::|:', '|:|::']\n",
    "print(secret)"
   ]
  },
  {
   "cell_type": "code",
   "execution_count": 4,
   "id": "f0288aaf",
   "metadata": {
    "ExecuteTime": {
     "end_time": "2023-03-17T04:53:39.008964Z",
     "start_time": "2023-03-17T04:53:38.994005Z"
    }
   },
   "outputs": [
    {
     "name": "stdout",
     "output_type": "stream",
     "text": [
      "5\n",
      "2\n",
      "8\n",
      ":|:|:::|:||::|:\n"
     ]
    }
   ],
   "source": [
    "strNums = '528'\n",
    "\n",
    "\n",
    "def ConvertNumsToBarcodes(strNums):\n",
    "    strBarcodes = ''\n",
    "    '''for i,n in enumerate(strNums):#i-index, n-value via Tuple\n",
    "        print(i,n)\n",
    "        strBarcodes+=barCodes[i]'''\n",
    "    '''for i in range(len(strNums)):\n",
    "        strBarcodes+=barCodes[i]'''\n",
    "    for i in strNums:\n",
    "        print(i)  # i - str , in strNums\n",
    "        i = int(i)  # convert str to int\n",
    "        strBarcodes += secret[i]\n",
    "    return strBarcodes\n",
    "\n",
    "\n",
    "print(ConvertNumsToBarcodes(strNums))"
   ]
  },
  {
   "cell_type": "code",
   "execution_count": 5,
   "id": "b8c09ef7",
   "metadata": {
    "ExecuteTime": {
     "end_time": "2023-03-17T04:53:39.573724Z",
     "start_time": "2023-03-17T04:53:39.562798Z"
    }
   },
   "outputs": [
    {
     "name": "stdout",
     "output_type": "stream",
     "text": [
      "0 5\n",
      ":|:|:\n",
      "5 10\n",
      "::|:|\n",
      "10 15\n",
      "|::|:\n",
      "result : 528\n"
     ]
    }
   ],
   "source": [
    "strBarcodes = ':|:|:::|:||::|:'\n",
    "\n",
    "\n",
    "def ConvertBarcodesToNums(strBarcodes):\n",
    "    ptrnSz = len(secret[0])\n",
    "    ptrnCount = len(strBarcodes)/ptrnSz\n",
    "    ptrnNums = ''\n",
    "    for x in range(0, len(strBarcodes), ptrnSz):\n",
    "        print(x, x+ptrnSz)\n",
    "        ptrn = strBarcodes[x:x+ptrnSz]\n",
    "        print(ptrn)\n",
    "        for k in range(len(secret)):\n",
    "            if ptrn == secret[k]:\n",
    "                ptrnNums += str(k)\n",
    "    return ptrnNums\n",
    "\n",
    "\n",
    "print('result : ' + str(ConvertBarcodesToNums(strBarcodes)))"
   ]
  },
  {
   "cell_type": "code",
   "execution_count": null,
   "id": "8519afb5",
   "metadata": {},
   "outputs": [],
   "source": []
  },
  {
   "cell_type": "code",
   "execution_count": null,
   "id": "b8cbc202",
   "metadata": {},
   "outputs": [],
   "source": []
  },
  {
   "cell_type": "code",
   "execution_count": null,
   "id": "08cf7fb0",
   "metadata": {},
   "outputs": [],
   "source": []
  },
  {
   "cell_type": "code",
   "execution_count": null,
   "id": "05276241",
   "metadata": {},
   "outputs": [],
   "source": []
  }
 ],
 "metadata": {
  "kernelspec": {
   "display_name": "Python 3 (ipykernel)",
   "language": "python",
   "name": "python3"
  },
  "language_info": {
   "codemirror_mode": {
    "name": "ipython",
    "version": 3
   },
   "file_extension": ".py",
   "mimetype": "text/x-python",
   "name": "python",
   "nbconvert_exporter": "python",
   "pygments_lexer": "ipython3",
   "version": "3.9.13"
  },
  "varInspector": {
   "cols": {
    "lenName": 16,
    "lenType": 16,
    "lenVar": 40
   },
   "kernels_config": {
    "python": {
     "delete_cmd_postfix": "",
     "delete_cmd_prefix": "del ",
     "library": "var_list.py",
     "varRefreshCmd": "print(var_dic_list())"
    },
    "r": {
     "delete_cmd_postfix": ") ",
     "delete_cmd_prefix": "rm(",
     "library": "var_list.r",
     "varRefreshCmd": "cat(var_dic_list()) "
    }
   },
   "types_to_exclude": [
    "module",
    "function",
    "builtin_function_or_method",
    "instance",
    "_Feature"
   ],
   "window_display": false
  }
 },
 "nbformat": 4,
 "nbformat_minor": 5
}
