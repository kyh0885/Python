{
 "cells": [
  {
   "cell_type": "markdown",
   "id": "1eeff99a",
   "metadata": {},
   "source": [
    "# Python Basic - Type, Operator, String, Print "
   ]
  },
  {
   "cell_type": "code",
   "execution_count": 1,
   "id": "481532a2",
   "metadata": {},
   "outputs": [
    {
     "data": {
      "text/plain": [
       "20"
      ]
     },
     "execution_count": 1,
     "metadata": {},
     "output_type": "execute_result"
    }
   ],
   "source": [
    "10+10"
   ]
  },
  {
   "cell_type": "code",
   "execution_count": 2,
   "id": "86d2cffa",
   "metadata": {},
   "outputs": [
    {
     "data": {
      "text/plain": [
       "0"
      ]
     },
     "execution_count": 2,
     "metadata": {},
     "output_type": "execute_result"
    }
   ],
   "source": [
    "10-10"
   ]
  },
  {
   "cell_type": "code",
   "execution_count": null,
   "id": "579bd29f",
   "metadata": {},
   "outputs": [],
   "source": []
  },
  {
   "cell_type": "code",
   "execution_count": 3,
   "id": "5211bb2e",
   "metadata": {},
   "outputs": [
    {
     "data": {
      "text/plain": [
       "100"
      ]
     },
     "execution_count": 3,
     "metadata": {},
     "output_type": "execute_result"
    }
   ],
   "source": [
    "10*10"
   ]
  },
  {
   "cell_type": "code",
   "execution_count": null,
   "id": "9fb8932c",
   "metadata": {},
   "outputs": [],
   "source": []
  },
  {
   "cell_type": "code",
   "execution_count": 4,
   "id": "6948b10d",
   "metadata": {},
   "outputs": [
    {
     "data": {
      "text/plain": [
       "1.0"
      ]
     },
     "execution_count": 4,
     "metadata": {},
     "output_type": "execute_result"
    }
   ],
   "source": [
    "10/10"
   ]
  },
  {
   "cell_type": "code",
   "execution_count": 5,
   "id": "47a1653f",
   "metadata": {},
   "outputs": [
    {
     "name": "stdout",
     "output_type": "stream",
     "text": [
      "hello world\n"
     ]
    }
   ],
   "source": [
    "print('hello world')"
   ]
  },
  {
   "cell_type": "code",
   "execution_count": 28,
   "id": "4ef44811",
   "metadata": {},
   "outputs": [],
   "source": [
    "a=1"
   ]
  },
  {
   "cell_type": "code",
   "execution_count": 36,
   "id": "5bbb5dd2",
   "metadata": {},
   "outputs": [
    {
     "name": "stdout",
     "output_type": "stream",
     "text": [
      "<class 'dict'>\n"
     ]
    }
   ],
   "source": [
    "print(type(a))"
   ]
  },
  {
   "cell_type": "code",
   "execution_count": 37,
   "id": "fa6a3a23",
   "metadata": {},
   "outputs": [],
   "source": [
    "a='1'"
   ]
  },
  {
   "cell_type": "code",
   "execution_count": 38,
   "id": "ab6c5186",
   "metadata": {},
   "outputs": [
    {
     "name": "stdout",
     "output_type": "stream",
     "text": [
      "<class 'str'>\n"
     ]
    }
   ],
   "source": [
    "print(type(a))"
   ]
  },
  {
   "cell_type": "code",
   "execution_count": 39,
   "id": "14dc8e4b",
   "metadata": {},
   "outputs": [],
   "source": [
    "a=[1,2,3,4,5,6]"
   ]
  },
  {
   "cell_type": "code",
   "execution_count": 40,
   "id": "70690199",
   "metadata": {},
   "outputs": [
    {
     "name": "stdout",
     "output_type": "stream",
     "text": [
      "<class 'list'>\n"
     ]
    }
   ],
   "source": [
    "print(type(a))"
   ]
  },
  {
   "cell_type": "code",
   "execution_count": 41,
   "id": "2452f005",
   "metadata": {},
   "outputs": [],
   "source": [
    "a={'1':1,'2':2,'3':3,'4':4,'5':5,'6':6}"
   ]
  },
  {
   "cell_type": "code",
   "execution_count": 42,
   "id": "5cece72d",
   "metadata": {},
   "outputs": [
    {
     "name": "stdout",
     "output_type": "stream",
     "text": [
      "<class 'dict'>\n"
     ]
    }
   ],
   "source": [
    "print(type(a))"
   ]
  },
  {
   "cell_type": "code",
   "execution_count": 3,
   "id": "ed3c6e68",
   "metadata": {},
   "outputs": [
    {
     "name": "stdout",
     "output_type": "stream",
     "text": [
      "<class 'tuple'>\n"
     ]
    }
   ],
   "source": [
    "a=(1,2,3)\n",
    "print(type(a))"
   ]
  },
  {
   "cell_type": "code",
   "execution_count": 64,
   "id": "46472092",
   "metadata": {},
   "outputs": [
    {
     "name": "stdout",
     "output_type": "stream",
     "text": [
      "a = 6\n",
      "a = -70\n",
      "<class 'int'>\n"
     ]
    }
   ],
   "source": [
    "#integer\n",
    "a = 1+2+3\n",
    "print('a = ' + str(a))\n",
    "a = -10+10+(-30-40)\n",
    "print('a = ' + str(a))\n",
    "print(type(a))"
   ]
  },
  {
   "cell_type": "code",
   "execution_count": 65,
   "id": "3db48824",
   "metadata": {},
   "outputs": [
    {
     "name": "stdout",
     "output_type": "stream",
     "text": [
      "a = -55.6764\n",
      "a = 0.6666666666666666\n",
      "<class 'float'>\n"
     ]
    }
   ],
   "source": [
    "#float\n",
    "a = 128.8+38-222.4764\n",
    "print('a = ' + str(a))\n",
    "a = 2/3\n",
    "print('a = ' + str(a))\n",
    "print(type(a))"
   ]
  },
  {
   "cell_type": "code",
   "execution_count": 68,
   "id": "07c9c0a3",
   "metadata": {},
   "outputs": [
    {
     "name": "stdout",
     "output_type": "stream",
     "text": [
      "a = 3.3333333333333335\n",
      "a = 3\n"
     ]
    }
   ],
   "source": [
    "# // 소수점 절삭 연산자\n",
    "a = 10/3\n",
    "print('a = ' + str(a))\n",
    "a = 10//3\n",
    "print('a = ' + str(a))"
   ]
  },
  {
   "cell_type": "code",
   "execution_count": 69,
   "id": "bba07b44",
   "metadata": {},
   "outputs": [
    {
     "name": "stdout",
     "output_type": "stream",
     "text": [
      "a = 8\n",
      "a = 81\n"
     ]
    }
   ],
   "source": [
    "# ** 제곱연산자\n",
    "a = 2**3\n",
    "print('a = ' + str(a))\n",
    "a = 3**4\n",
    "print('a = ' + str(a))"
   ]
  },
  {
   "cell_type": "markdown",
   "id": "149190d2",
   "metadata": {},
   "source": [
    "#### 문자열(string)"
   ]
  },
  {
   "cell_type": "code",
   "execution_count": 81,
   "id": "381b7567",
   "metadata": {},
   "outputs": [
    {
     "name": "stdout",
     "output_type": "stream",
     "text": [
      "a = hello world\n",
      "a = hello world\n",
      "a = hello worldhello worldhello world\n",
      "a[0] = h\n",
      "a[1] = e\n",
      "a[2] = l\n",
      "a[3] = l\n",
      "a[4] = o\n",
      "a[0:5] = hello\n"
     ]
    }
   ],
   "source": [
    "a = 'hello world'\n",
    "print('a = ' + a)\n",
    "a = \"hello world\"\n",
    "print('a = ' + a)\n",
    "a = \"hello world\"*3\n",
    "print('a = ' + a)\n",
    "\n",
    "a = 'hello world'\n",
    "print('a[0] = ' + a[0])\n",
    "print('a[1] = ' + a[1])\n",
    "print('a[2] = ' + a[2])\n",
    "print('a[3] = ' + a[3])\n",
    "print('a[4] = ' + a[4])\n",
    "print('a[0:5] = ' + a[0:5])\n"
   ]
  },
  {
   "cell_type": "code",
   "execution_count": 94,
   "id": "57b22b49",
   "metadata": {},
   "outputs": [
    {
     "name": "stdout",
     "output_type": "stream",
     "text": [
      "Today : 2023-03-15\n",
      "string length - Today is 10\n"
     ]
    }
   ],
   "source": [
    "date = '20230315'\n",
    "year = date[0:4]\n",
    "month = date[4:6]\n",
    "day = date[6:]\n",
    "date2 = year + '-' + month + '-' + day\n",
    "print('Today : '+date2)\n",
    "print('string length - Today is ' + str(len(date2)))\n"
   ]
  },
  {
   "cell_type": "code",
   "execution_count": 96,
   "id": "43c4c1db",
   "metadata": {},
   "outputs": [
    {
     "name": "stdout",
     "output_type": "stream",
     "text": [
      "나는 빨강 을 좋아합니다.\n",
      "나는 초록 을 좋아합니다.\n"
     ]
    }
   ],
   "source": [
    "color = '빨강'\n",
    "fmt = '나는 %s 을 좋아합니다.' % color\n",
    "print(fmt)\n",
    "color = '초록'\n",
    "fmt = '나는 %s 을 좋아합니다.' % color\n",
    "print(fmt)"
   ]
  },
  {
   "cell_type": "code",
   "execution_count": null,
   "id": "3a6575ae",
   "metadata": {},
   "outputs": [],
   "source": [
    "kor = 88\n",
    "eng = 95\n",
    "math = 97\n",
    "sum = kor+eng+math\n",
    "avg = sum/3\n",
    "\n",
    "fmt = 'sum : %d, avg : %f' % (sum, avg)\n",
    "result = (sum, avg)\n",
    "fmt = 'sum : %d, avg : %f' % result\n",
    "print(fmt)\n",
    "\n",
    "print('result type :: ' + str(type(result)))"
   ]
  },
  {
   "cell_type": "code",
   "execution_count": null,
   "id": "e570abec",
   "metadata": {},
   "outputs": [],
   "source": [
    "# Tuple - (a,b), List - [1,2], Dict - {'a':1}"
   ]
  },
  {
   "cell_type": "code",
   "execution_count": 6,
   "id": "dd7cead9",
   "metadata": {},
   "outputs": [
    {
     "name": "stdout",
     "output_type": "stream",
     "text": [
      "input your name : aaa\n",
      "name is aaa\n"
     ]
    }
   ],
   "source": [
    "name = input('input your name : ')\n",
    "print('name is ' + name)"
   ]
  },
  {
   "cell_type": "code",
   "execution_count": 9,
   "id": "ae5c779e",
   "metadata": {},
   "outputs": [
    {
     "name": "stdout",
     "output_type": "stream",
     "text": [
      "input integer value : 10\n",
      "value is 10\n",
      "input integer value : 3\n",
      "value is 3\n",
      "sum = 13\n",
      "sub = 7\n",
      "mul = 30\n",
      "div = 3.3333333333333335\n"
     ]
    }
   ],
   "source": [
    "a = input('input integer value : ')\n",
    "print('value is ' + a)\n",
    "b = input('input integer value : ')\n",
    "print('value is ' + b)\n",
    "a = int(a)\n",
    "b = int(b)\n",
    "print('sum = ' + str(a+b))\n",
    "print('sub = ' + str(a-b))\n",
    "print('mul = ' + str(a*b))\n",
    "print('div = ' + str(a/b))"
   ]
  },
  {
   "cell_type": "code",
   "execution_count": 11,
   "id": "8278c83e",
   "metadata": {},
   "outputs": [
    {
     "name": "stdout",
     "output_type": "stream",
     "text": [
      "My name is John, I'm 36\n",
      "My name is John, I'm 36\n",
      "My name is John, I'm 36\n"
     ]
    }
   ],
   "source": [
    "txt1 = \"My name is {fname}, I'm {age}\".format(fname = \"John\", age = 36)\n",
    "txt2 = \"My name is {0}, I'm {1}\".format(\"John\",36)\n",
    "txt3 = \"My name is {}, I'm {}\".format(\"John\",36)\n",
    "print(txt1)\n",
    "print(txt2)\n",
    "print(txt3)"
   ]
  },
  {
   "cell_type": "markdown",
   "id": "97609a6a",
   "metadata": {},
   "source": [
    "# Python Logic - if and for ..."
   ]
  },
  {
   "cell_type": "code",
   "execution_count": 3,
   "id": "e25bd63e",
   "metadata": {},
   "outputs": [
    {
     "name": "stdout",
     "output_type": "stream",
     "text": [
      "input x value : 11\n",
      "x > 10\n"
     ]
    }
   ],
   "source": [
    "x = input('input x value : ')\n",
    "x = int(x)\n",
    "if x>100 :\n",
    "    print('positive')\n",
    "elif x > 10 :\n",
    "    print('x > 10')\n",
    "else:\n",
    "    print('negative')"
   ]
  },
  {
   "cell_type": "code",
   "execution_count": 10,
   "id": "1d5804aa",
   "metadata": {},
   "outputs": [
    {
     "name": "stdout",
     "output_type": "stream",
     "text": [
      "5>2 : True\n",
      "5<2 : False\n",
      "5==2 : False\n",
      "5!=2 : True\n",
      "5<=2 : False\n",
      "5>=2 : True\n"
     ]
    }
   ],
   "source": [
    "a = 5\n",
    "b = 2\n",
    "print(\"{a}>{b} : \".format(a = a, b = b)  + str(a>b))\n",
    "print(\"{a}<{b} : \".format(a = a, b = b)  + str(a<b))\n",
    "print(\"{a}=={b} : \".format(a = a, b = b) + str(a==b))\n",
    "print(\"{a}!={b} : \".format(a = a, b = b) + str(a!=b))\n",
    "print(\"{a}<={b} : \".format(a = a, b = b) + str(a<=b))\n",
    "print(\"{a}>={b} : \".format(a = a, b = b) + str(a>=b))"
   ]
  },
  {
   "cell_type": "code",
   "execution_count": 23,
   "id": "3e9ca0cf",
   "metadata": {},
   "outputs": [
    {
     "name": "stdout",
     "output_type": "stream",
     "text": [
      "and type : <class 'bool'>, value : False\n",
      "or type : <class 'bool'>, value : True\n",
      "== type : <class 'bool'>, value : False\n",
      "not type : <class 'bool'>, value : True\n",
      "x%2 == 0 type : <class 'bool'>, value : False\n",
      "not x%2 == 0 type : <class 'bool'>, value : True\n"
     ]
    }
   ],
   "source": [
    "# 논리 연산자    &  ||  !   => and   or   not\n",
    "kor = 60\n",
    "eng = 90\n",
    "comp = kor >= 70 and eng >=90\n",
    "print('and type : '+str(type(comp))+', value : ' + str(comp))\n",
    "comp = kor >= 70 or eng >=90\n",
    "print('or type : '+str(type(comp))+', value : ' + str(comp))\n",
    "\n",
    "comp = kor==70#kor=60\n",
    "print('== type : '+str(type(comp))+', value : ' + str(comp))\n",
    "comp = not kor==70\n",
    "print('not type : '+str(type(comp))+', value : ' + str(comp))\n",
    "\n",
    "x = 5\n",
    "comp = x%2 == 0\n",
    "print('x%2 == 0 type : '+str(type(comp))+', value : ' + str(comp))\n",
    "comp = not x%2 == 0\n",
    "print('not x%2 == 0 type : '+str(type(comp))+', value : ' + str(comp))"
   ]
  },
  {
   "cell_type": "code",
   "execution_count": 26,
   "id": "d1fb4edd",
   "metadata": {},
   "outputs": [
    {
     "name": "stdout",
     "output_type": "stream",
     "text": [
      "정수를 입력하세요 : 10\n",
      "입력된 정수 : 10 입니다.\n",
      "입력된 정수는 100 ~ 1000 사이에 있지 않습니다 !\n"
     ]
    }
   ],
   "source": [
    "#Quiz 100~1000 의 정수 판별\n",
    "num = input('정수를 입력하세요 : ')\n",
    "num = int(num)\n",
    "result = '입력된 정수는 100 ~ 1000 사이에 있지 않습니다 !'\n",
    "if num >= 100 and num <= 1000:\n",
    "    result = '입력된 정수는 100 ~ 1000 사이에 있습니다 !'\n",
    "print('입력된 정수 : {}'.format(num) + ' 입니다.')\n",
    "print('%s' % result)"
   ]
  },
  {
   "cell_type": "code",
   "execution_count": 31,
   "id": "49fd132b",
   "metadata": {},
   "outputs": [
    {
     "name": "stdout",
     "output_type": "stream",
     "text": [
      "영어 소문자 하나를 입력하세요 : a\n",
      "True\n",
      "False\n",
      "False\n",
      "False\n",
      "False\n",
      "a -> 모음 \n"
     ]
    }
   ],
   "source": [
    "#Quiz 영어 모음 / 자음 판별\n",
    "char = input('영어 소문자 하나를 입력하세요 : ')\n",
    "\n",
    "if (char == 'a' or char == 'e' or char == 'i' or char == 'o' or char == 'u'):\n",
    "    print('%s -> 모음 ' % char)\n",
    "else:\n",
    "    print('%s -> 자음 ' % char)\n"
   ]
  },
  {
   "cell_type": "markdown",
   "id": "9b2de8e2",
   "metadata": {},
   "source": [
    "## 반복문 ... for, while"
   ]
  },
  {
   "cell_type": "code",
   "execution_count": 42,
   "id": "13dbf49e",
   "metadata": {},
   "outputs": [
    {
     "name": "stdout",
     "output_type": "stream",
     "text": [
      "[0] hello world\n",
      "[1] hello world\n",
      "[2] hello world\n",
      "[3] hello world\n",
      "[4] hello world\n",
      "==============================\n",
      "2\n",
      "3\n",
      "4\n",
      "5\n",
      "==============================\n",
      "2\n",
      "4\n",
      "6\n",
      "8\n",
      "10\n",
      "12\n",
      "14\n",
      "16\n",
      "18\n",
      "20\n",
      "22\n",
      "24\n",
      "26\n",
      "28\n",
      "==============================\n",
      "apple\n",
      "cherry\n",
      "==============================\n",
      "apple apple\n",
      "apple banana\n",
      "apple cherry\n",
      "banana apple\n",
      "banana banana\n",
      "banana cherry\n",
      "cherry apple\n",
      "cherry banana\n",
      "cherry cherry\n",
      "==============================\n",
      "0\n",
      "1\n",
      "2\n",
      "3\n",
      "4\n",
      "5\n",
      "6\n"
     ]
    }
   ],
   "source": [
    "cnt = 5\n",
    "for i in range(cnt): #<===== for (i=0; i<cnt(5); i++)\n",
    "    print('[{}] hello world'.format(i))\n",
    "print('==='*10)\n",
    "for x in range(2,6): #start, finish\n",
    "    print(x)\n",
    "print('==='*10)\n",
    "for x in range(2,30,2): #start, finish\n",
    "    print(x)\n",
    "    \n",
    "print('==='*10)    \n",
    "fruits = ['apple', 'banana', 'cherry']\n",
    "for fruit in fruits:\n",
    "    if fruit == 'banana':\n",
    "        continue #break;\n",
    "    print(fruit)\n",
    "    \n",
    "    \n",
    "print('==='*10)    \n",
    "for x in fruits:\n",
    "    for y in fruits:\n",
    "        print(x,y)\n",
    "        \n",
    "print('==='*10)   \n",
    "for x in [0,1,2,3,4,5,6]:\n",
    "    print(x)"
   ]
  },
  {
   "cell_type": "markdown",
   "id": "0986fe54",
   "metadata": {},
   "source": [
    "# for --> 구구단 \n",
    "###### 2x1 = 2  3x1=3 ... 9x1=9\n",
    "###### 2x2 = 4  3x2=6 ... 9x2=18\n",
    "###### ...\n",
    "######                              9x9=81"
   ]
  },
  {
   "cell_type": "code",
   "execution_count": 46,
   "id": "a6b9f93a",
   "metadata": {},
   "outputs": [
    {
     "name": "stdout",
     "output_type": "stream",
     "text": [
      "2x1=2\t3x1=3\t4x1=4\t5x1=5\t6x1=6\t7x1=7\t8x1=8\t9x1=9\t\n",
      "2x2=4\t3x2=6\t4x2=8\t5x2=10\t6x2=12\t7x2=14\t8x2=16\t9x2=18\t\n",
      "2x3=6\t3x3=9\t4x3=12\t5x3=15\t6x3=18\t7x3=21\t8x3=24\t9x3=27\t\n",
      "2x4=8\t3x4=12\t4x4=16\t5x4=20\t6x4=24\t7x4=28\t8x4=32\t9x4=36\t\n",
      "2x5=10\t3x5=15\t4x5=20\t5x5=25\t6x5=30\t7x5=35\t8x5=40\t9x5=45\t\n",
      "2x6=12\t3x6=18\t4x6=24\t5x6=30\t6x6=36\t7x6=42\t8x6=48\t9x6=54\t\n",
      "2x7=14\t3x7=21\t4x7=28\t5x7=35\t6x7=42\t7x7=49\t8x7=56\t9x7=63\t\n",
      "2x8=16\t3x8=24\t4x8=32\t5x8=40\t6x8=48\t7x8=56\t8x8=64\t9x8=72\t\n",
      "2x9=18\t3x9=27\t4x9=36\t5x9=45\t6x9=54\t7x9=63\t8x9=72\t9x9=81\t\n"
     ]
    }
   ],
   "source": [
    "for row in range(1,10,1):\n",
    "    line = ''\n",
    "    for col in range(2,10,1):\n",
    "        line += '{}x{}={}\\t'.format(col, row, col*row)\n",
    "    print(line)"
   ]
  },
  {
   "cell_type": "markdown",
   "id": "5835985f",
   "metadata": {},
   "source": [
    "## List"
   ]
  },
  {
   "cell_type": "code",
   "execution_count": 61,
   "id": "ca9bd72f",
   "metadata": {},
   "outputs": [
    {
     "name": "stdout",
     "output_type": "stream",
     "text": [
      "['red', 'green', 'blue', 'black', 'white']\n",
      "<class 'list'>\n",
      "red\n",
      "green\n",
      "['green', 'blue', 'black']\n",
      "<class 'list'>\n",
      "==================================================\n",
      "[1, 3, 5, 7, 9, 11, 13, 15, 17, 19]\n",
      "[7, 9, 11, 13]\n",
      "1\n",
      "3\n",
      "5\n",
      "7\n",
      "9\n",
      "11\n",
      "13\n",
      "15\n",
      "17\n",
      "19\n",
      "==================================================\n",
      "사자\n",
      "호랑이\n",
      "원숭이\n",
      "곰\n",
      "사슴\n",
      "==================================================\n",
      "['무궁화', '장미', '개나리']\n",
      "['무궁화', '장미', '개나리', '벗꽂']\n",
      "['무궁화', '개나리', '벗꽂']\n"
     ]
    }
   ],
   "source": [
    "color=['red','green','blue','black','white']\n",
    "print(color)\n",
    "print(type(color))\n",
    "print(color[0])\n",
    "print(color[1])\n",
    "print(color[1:4])\n",
    "print(type(color[1:4]))\n",
    "print('='*50)\n",
    "nums = list(range(1,21,2))\n",
    "print(nums)\n",
    "print(nums[3:7])\n",
    "for x in nums:\n",
    "    print(x)\n",
    "print('='*50)    \n",
    "animals = ['사자','호랑이','원숭이','곰', '사슴']\n",
    "i = 0\n",
    "while i<len(animals):\n",
    "    print(animals[i])\n",
    "    i=i+1\n",
    "print('='*50)\n",
    "\n",
    "\n",
    "\n",
    "flower = ['무궁화', '장미', '개나리']\n",
    "print(flower)\n",
    "flower.append('벗꽂')#추가\n",
    "print(flower)\n",
    "flower.remove('장미')#삭제\n",
    "print(flower)"
   ]
  },
  {
   "cell_type": "code",
   "execution_count": 65,
   "id": "3f6eb56f",
   "metadata": {},
   "outputs": [
    {
     "name": "stdout",
     "output_type": "stream",
     "text": [
      "==================================================\n",
      "['apple', 'banana', 'cherry', 'kiwi', 'mango']\n",
      "==================================================\n",
      "['apple', 'banana', 'mango']\n",
      "==================================================\n",
      "['banana', 'cherry', 'kiwi', 'mango']\n"
     ]
    }
   ],
   "source": [
    "print('='*50)\n",
    "\n",
    "fruits = [\"apple\", \"banana\", \"cherry\", \"kiwi\", \"mango\"]\n",
    "newlist =[]#create and initialize\n",
    "newlist =[x for x in fruits]#create and intialize and set value\n",
    "print (newlist)\n",
    "print('='*50)\n",
    "newlist =[x for x in fruits if 'a' in x]\n",
    "print (newlist)\n",
    "print('='*50)\n",
    "newlist = [x for x in fruits if x != \"apple\"]\n",
    "print (newlist)"
   ]
  },
  {
   "cell_type": "markdown",
   "id": "2ddda233",
   "metadata": {},
   "source": [
    "3\n",
    "##### 리스트 성적 합계 / 평균\n",
    "scores = []\n",
    "\n",
    "while True:\n",
    "    x = int(input('성적을 입력하세요(종료 시 -1 입력) : '))\n",
    "    if x == -1 : \n",
    "        break\n",
    "    else:\n",
    "        scores.append(x)\n",
    "        \n",
    "        \n",
    "sum = 0\n",
    "for score in scores:\n",
    "    sum = sum+ score\n",
    "\n",
    "    \n",
    "avg = sum / len(scores)\n",
    "\n",
    "print(\"합계 : {}, 평균 : {}\".format(sum, avg))\n"
   ]
  },
  {
   "cell_type": "code",
   "execution_count": 69,
   "id": "b920c93c",
   "metadata": {},
   "outputs": [
    {
     "name": "stdout",
     "output_type": "stream",
     "text": [
      "성적을 입력하세요(종료 시 -1 입력) : 1\n",
      "성적을 입력하세요(종료 시 -1 입력) : 2\n",
      "성적을 입력하세요(종료 시 -1 입력) : 3\n",
      "성적을 입력하세요(종료 시 -1 입력) : 4\n",
      "성적을 입력하세요(종료 시 -1 입력) : 5\n",
      "성적을 입력하세요(종료 시 -1 입력) : 6\n",
      "성적을 입력하세요(종료 시 -1 입력) : 7\n",
      "성적을 입력하세요(종료 시 -1 입력) : 8\n",
      "성적을 입력하세요(종료 시 -1 입력) : 9\n",
      "성적을 입력하세요(종료 시 -1 입력) : 10\n",
      "성적을 입력하세요(종료 시 -1 입력) : -1\n",
      "합계 : 55, 평균 : 5.5\n"
     ]
    }
   ],
   "source": [
    "scores = []\n",
    "\n",
    "while True: \n",
    "    x = int(input('성적을 입력하세요(종료 시 -1 입력) : ')) \n",
    "    if x == -1: \n",
    "        break \n",
    "    else: \n",
    "        scores.append(x)\n",
    "\n",
    "sum = 0 \n",
    "for score in scores: \n",
    "    sum = sum+ score\n",
    "\n",
    "avg = sum / len(scores)\n",
    "\n",
    "print(\"합계 : {}, 평균 : {}\".format(sum, avg))"
   ]
  },
  {
   "cell_type": "code",
   "execution_count": 75,
   "id": "9206fb54",
   "metadata": {},
   "outputs": [
    {
     "name": "stdout",
     "output_type": "stream",
     "text": [
      "[[1, 2, 3, 10], [4, 5, 6, 10], [7, 8, 9, 10]]\n",
      "<class 'list'>\n",
      "row_length : 3\n",
      "col_length : 4\n",
      "numbers[0][0]=1\n",
      "numbers[0][1]=2\n",
      "numbers[0][2]=3\n",
      "numbers[0][3]=10\n",
      "numbers[1][0]=4\n",
      "numbers[1][1]=5\n",
      "numbers[1][2]=6\n",
      "numbers[1][3]=10\n",
      "numbers[2][0]=7\n",
      "numbers[2][1]=8\n",
      "numbers[2][2]=9\n",
      "numbers[2][3]=10\n"
     ]
    }
   ],
   "source": [
    "numbers = [ [1,2,3, 10],[4,5,6, 10],[7,8,9, 10] ]\n",
    "print(numbers)\n",
    "print(type(numbers))\n",
    "\n",
    "i_len = len(numbers)\n",
    "j_len = len(numbers[i])\n",
    "print('row_length : ' + str(i_len))\n",
    "print('col_length : ' + str(j_len))\n",
    "for i in range(len(numbers)):\n",
    "    for j in range(len(numbers[i])):\n",
    "        print('numbers[{}][{}]={}'.format(i, j, numbers[i][j]))"
   ]
  },
  {
   "cell_type": "code",
   "execution_count": 85,
   "id": "a44a718e",
   "metadata": {},
   "outputs": [
    {
     "name": "stdout",
     "output_type": "stream",
     "text": [
      "[[75, 83, 90], [86, 86, 73], [76, 95, 83], [89, 96, 69], [89, 76, 93]]\n",
      "row_length : 5\n",
      "col_length : 3\n",
      "1번째학생의합계:248,평균:82.67\n",
      "2번째학생의합계:245,평균:81.67\n",
      "3번째학생의합계:254,평균:84.67\n",
      "4번째학생의합계:254,평균:84.67\n",
      "5번째학생의합계:258,평균:86.00\n"
     ]
    }
   ],
   "source": [
    "scores=[\n",
    "    [75,83,90],#student 1 \n",
    "    [86,86,73],#student 2\n",
    "    [76,95,83],#student 3\n",
    "    [89,96,69],#student 4\n",
    "    [89,76,93] #student 5\n",
    "]\n",
    "print(scores)\n",
    "'''\n",
    "1번째학생의합계:248,평균:82.67\n",
    "2번째학생의합계:245,평균:81.67\n",
    "3번째학생의합계:254,평균:84.67\n",
    "4번째학생의합계:254,평균:84.67\n",
    "5번째학생의합계:258,평균:86.00\n",
    "'''\n",
    "\n",
    "row_len = len(scores)\n",
    "col_len = len(scores[i])\n",
    "print('row_length : ' + str(row_len))\n",
    "print('col_length : ' + str(col_len))\n",
    "for row in range(len(scores)):\n",
    "    sum=0\n",
    "    avg=0.0\n",
    "    for col in range(len(scores[row])):\n",
    "        #print('numbers[{}][{}]={}'.format(row, col, scores[row][col]))\n",
    "        sum = sum + scores[row][col];\n",
    "    avg = sum / len(scores[row])\n",
    "    print('{}번째학생의합계:{},평균:{:.2f}'.format(row+1, sum, avg))"
   ]
  },
  {
   "cell_type": "markdown",
   "id": "4cb95988",
   "metadata": {},
   "source": [
    "# Function"
   ]
  },
  {
   "cell_type": "code",
   "execution_count": 92,
   "id": "10af0e53",
   "metadata": {},
   "outputs": [],
   "source": [
    "#def hello():  # function define\n",
    "def hello(name):  # function define\n",
    "    print('{} : This is hello function'.format(name))"
   ]
  },
  {
   "cell_type": "code",
   "execution_count": 94,
   "id": "fbc5280a",
   "metadata": {},
   "outputs": [
    {
     "name": "stdout",
     "output_type": "stream",
     "text": [
      "apple : This is hello function\n",
      "banana : This is hello function\n",
      "cherry : This is hello function\n",
      "kiwi : This is hello function\n",
      "mango : This is hello function\n"
     ]
    }
   ],
   "source": [
    "fruits = [\"apple\", \"banana\", \"cherry\", \"kiwi\", \"mango\"]\n",
    "for x in fruits:\n",
    "    hello(x)"
   ]
  },
  {
   "cell_type": "code",
   "execution_count": 95,
   "id": "646215da",
   "metadata": {},
   "outputs": [],
   "source": [
    "def sum(a,b):\n",
    "    return a+b"
   ]
  },
  {
   "cell_type": "code",
   "execution_count": 96,
   "id": "abcc87d5",
   "metadata": {},
   "outputs": [
    {
     "data": {
      "text/plain": [
       "20"
      ]
     },
     "execution_count": 96,
     "metadata": {},
     "output_type": "execute_result"
    }
   ],
   "source": [
    "sum(10,10)"
   ]
  },
  {
   "cell_type": "code",
   "execution_count": 97,
   "id": "93b8a253",
   "metadata": {},
   "outputs": [],
   "source": [
    "def calc(a,b):\n",
    "    sum = a+b\n",
    "    avg = sum/2\n",
    "    return sum, avg"
   ]
  },
  {
   "cell_type": "code",
   "execution_count": 99,
   "id": "9cf13d08",
   "metadata": {},
   "outputs": [
    {
     "name": "stdout",
     "output_type": "stream",
     "text": [
      "(20, 10.0)\n",
      "<class 'tuple'>\n"
     ]
    }
   ],
   "source": [
    "ret = calc(10,10)\n",
    "print(ret)\n",
    "print(type(ret))"
   ]
  },
  {
   "cell_type": "code",
   "execution_count": 106,
   "id": "2cda077a",
   "metadata": {},
   "outputs": [],
   "source": [
    "def sum(start,end):\n",
    "    hap = 0\n",
    "    for i in range(start, end+1):\n",
    "        hap = hap +i\n",
    "    return hap\n",
    "    #print('{}~{}의 정수의 합계 : {}'.format(start,end, hap))\n",
    "    "
   ]
  },
  {
   "cell_type": "code",
   "execution_count": 107,
   "id": "18ca4845",
   "metadata": {},
   "outputs": [
    {
     "name": "stdout",
     "output_type": "stream",
     "text": [
      "1~10의 정수의 합계 : 55\n"
     ]
    },
    {
     "data": {
      "text/plain": [
       "25250"
      ]
     },
     "execution_count": 107,
     "metadata": {},
     "output_type": "execute_result"
    }
   ],
   "source": [
    "start = 1\n",
    "end = 10\n",
    "hap = sum(start,end)\n",
    "print('{}~{}의 정수의 합계 : {}'.format(start,end, hap))\n",
    "sum(100,200)\n",
    "sum(200,300)"
   ]
  },
  {
   "cell_type": "markdown",
   "id": "f62167ad",
   "metadata": {},
   "source": [
    "# File I/O"
   ]
  },
  {
   "cell_type": "code",
   "execution_count": 108,
   "id": "42b4c0ae",
   "metadata": {},
   "outputs": [
    {
     "name": "stdout",
     "output_type": "stream",
     "text": [
      "sample.txt 파일쓰기 완료\n"
     ]
    }
   ],
   "source": [
    "file = open('sample.txt', 'w')\n",
    "file.write('안녕하세요. KCCI 수업 중입니다.')\n",
    "file.close()\n",
    "print('sample.txt 파일쓰기 완료')"
   ]
  },
  {
   "cell_type": "code",
   "execution_count": 113,
   "id": "a6da6f08",
   "metadata": {},
   "outputs": [
    {
     "name": "stdout",
     "output_type": "stream",
     "text": [
      "안소영 97 80 93 97 93\n",
      "정예린 86 100 93 86 90\n",
      "김세린 91 88 99 79 92\n",
      "연수정 86 100 93 89 92\n",
      "박지아 80 100 95 89 90\n",
      "\n"
     ]
    }
   ],
   "source": [
    "scores=['안소영 97 80 93 97 93',\n",
    "'정예린 86 100 93 86 90',\n",
    "'김세린 91 88 99 79 92',\n",
    "'연수정 86 100 93 89 92',\n",
    "'박지아 80 100 95 89 90']\n",
    "data=''\n",
    "for item in scores:\n",
    "    data=data+item+'\\n'\n",
    "print(data)\n",
    "#파일(scores.txt)에출력하기\n",
    "file=open('scores.txt','w')\n",
    "file.write(data)\n",
    "file.close()\n"
   ]
  },
  {
   "cell_type": "code",
   "execution_count": 4,
   "id": "1242d43a",
   "metadata": {},
   "outputs": [
    {
     "name": "stdout",
     "output_type": "stream",
     "text": [
      "<class 'list'>\n",
      "['안소영 97 80 93 97 93\\n', '정예린 86 100 93 86 90\\n', '김세린 91 88 99 79 92\\n', '연수정 86 100 93 89 92\\n', '박지아 80 100 95 89 90\\n']\n",
      "안소영 97 80 93 97 93\n",
      "정예린 86 100 93 86 90\n",
      "김세린 91 88 99 79 92\n",
      "연수정 86 100 93 89 92\n",
      "박지아 80 100 95 89 90\n"
     ]
    }
   ],
   "source": [
    "file = open('scores.txt', 'r')\n",
    "lines = file.readlines()\n",
    "file.close()\n",
    "\n",
    "print(type(lines))\n",
    "print(lines)\n",
    "for line in lines:\n",
    "    print(line, end='')\n"
   ]
  },
  {
   "cell_type": "code",
   "execution_count": null,
   "id": "99db77f4",
   "metadata": {},
   "outputs": [],
   "source": []
  },
  {
   "cell_type": "markdown",
   "id": "dcaf5f41",
   "metadata": {},
   "source": [
    "## Class"
   ]
  },
  {
   "cell_type": "markdown",
   "id": "9edf388a",
   "metadata": {},
   "source": [
    "class [className] :\n",
    "    변수 a\n",
    "    변수 b\n",
    "    ...\n",
    "    def method1():\n",
    "        문장1\n",
    "        문장2\n",
    "        ...\n",
    "    def method2():\n",
    "        문장1\n",
    "        문장2\n",
    "        ...        "
   ]
  },
  {
   "cell_type": "code",
   "execution_count": 5,
   "id": "9d6b25f4",
   "metadata": {},
   "outputs": [],
   "source": [
    "class Fruit:\n",
    "    name = 'orange'\n",
    "    color = 'yellow'\n",
    "    \n",
    "    def taste(self):\n",
    "        print('세콤하다')\n",
    "    def vitamin(self):\n",
    "        print('비타민C가 풍부하다')"
   ]
  },
  {
   "cell_type": "code",
   "execution_count": 10,
   "id": "732c58de",
   "metadata": {},
   "outputs": [
    {
     "name": "stdout",
     "output_type": "stream",
     "text": [
      "<__main__.Fruit object at 0x00000201ED0397F0>\n",
      "<class '__main__.Fruit'>\n",
      "과일명 : orange\n",
      "색상 : yellow\n",
      "세콤하다\n",
      "비타민C가 풍부하다\n"
     ]
    }
   ],
   "source": [
    "orange = Fruit()\n",
    "print(orange)\n",
    "print(type(orange))\n",
    "\n",
    "print('과일명 : {}'.format(orange.name))\n",
    "print('색상 : {}'.format(orange.color))\n",
    "orange.taste()\n",
    "orange.vitamin()"
   ]
  },
  {
   "cell_type": "markdown",
   "id": "7fd1a43f",
   "metadata": {},
   "source": [
    "//c++ programming\n",
    "class CParent\n",
    "{\n",
    "    int a = 10;\n",
    "    int b = 20;\n",
    "    //생성자\n",
    "    CParent(){cout<<\"ctor\"<<endl;}\n",
    "    //사용자 정의 생성자\n",
    "    CParent(/*this*/,int a, int b)\n",
    "    {\n",
    "        this.a = a;//??\n",
    "        this.b = b;\n",
    "        cout<<\"ctor\"<<endl;\n",
    "    }\n",
    "    void Age(this)\n",
    "    {}\n",
    "    ~CParent(){cout<<\"dtor\"<<endl;}\n",
    "\n",
    "}"
   ]
  },
  {
   "cell_type": "code",
   "execution_count": 11,
   "id": "ecb69d01",
   "metadata": {},
   "outputs": [],
   "source": [
    "#연습문제 Circle\n",
    "class Circle:\n",
    "    radius = 10\n",
    "    def getArea(self):\n",
    "        area = 3.141592*self.radius*self.radius\n",
    "        return area\n",
    "    def getCircum(self):\n",
    "        circum = 2*3.141592*self.radius\n",
    "        return circum\n",
    "    "
   ]
  },
  {
   "cell_type": "code",
   "execution_count": 13,
   "id": "9ab15752",
   "metadata": {},
   "outputs": [
    {
     "name": "stdout",
     "output_type": "stream",
     "text": [
      "<__main__.Circle object at 0x00000201ECF69760>\n",
      "<class '__main__.Circle'>\n"
     ]
    }
   ],
   "source": [
    "cir = Circle()\n",
    "print(cir)\n",
    "print(type(cir))"
   ]
  },
  {
   "cell_type": "code",
   "execution_count": 14,
   "id": "3e132fed",
   "metadata": {},
   "outputs": [
    {
     "name": "stdout",
     "output_type": "stream",
     "text": [
      "radius : 10\n"
     ]
    }
   ],
   "source": [
    "print('radius : {}'.format(cir.radius))"
   ]
  },
  {
   "cell_type": "code",
   "execution_count": 17,
   "id": "df54d227",
   "metadata": {},
   "outputs": [
    {
     "name": "stdout",
     "output_type": "stream",
     "text": [
      "circle area : 314.16\n"
     ]
    }
   ],
   "source": [
    "print('circle area : {:0.2f}'.format(cir.getArea()))"
   ]
  },
  {
   "cell_type": "code",
   "execution_count": 18,
   "id": "b90325ae",
   "metadata": {},
   "outputs": [
    {
     "name": "stdout",
     "output_type": "stream",
     "text": [
      "circle circum : 62.83\n"
     ]
    }
   ],
   "source": [
    "print('circle circum : {:0.2f}'.format(cir.getCircum()))"
   ]
  },
  {
   "cell_type": "code",
   "execution_count": 30,
   "id": "e6f3c107",
   "metadata": {},
   "outputs": [],
   "source": [
    "#멤버 변수와 메소드 이용한 합계 / 평균\n",
    "class Student:\n",
    "    name = '홍길동'\n",
    "    kor = 80\n",
    "    eng = 90\n",
    "    math = 100\n",
    "    \n",
    "    def getSum(self):\n",
    "        sum = self.kor+self.eng+self.math\n",
    "        return sum\n",
    "    def getAvg(self):\n",
    "        avg = self.getSum()//3\n",
    "        return avg"
   ]
  },
  {
   "cell_type": "code",
   "execution_count": 31,
   "id": "b635036b",
   "metadata": {},
   "outputs": [
    {
     "name": "stdout",
     "output_type": "stream",
     "text": [
      "student name : 홍길동\n",
      "student kor : 80\n",
      "student eng : 90\n",
      "student math : 100\n",
      "student Sum : 270\n",
      "student Avg : 90\n"
     ]
    }
   ],
   "source": [
    "student = Student()\n",
    "print('student name : {}'.format(student.name))\n",
    "print('student kor : {}'.format(student.kor))\n",
    "print('student eng : {}'.format(student.eng))\n",
    "print('student math : {}'.format(student.math))\n",
    "print('student Sum : {}'.format(student.getSum()))\n",
    "print('student Avg : {}'.format(student.getAvg()))"
   ]
  },
  {
   "cell_type": "code",
   "execution_count": 36,
   "id": "8030d8c5",
   "metadata": {},
   "outputs": [],
   "source": [
    "#class 생성자\n",
    "class Student:\n",
    "    name = '홍길동'\n",
    "    kor = 80\n",
    "    eng = 90\n",
    "    math = 100\n",
    "    \n",
    "    def __init__(self, name= '홍길동', kor= 80, eng= 90, math= 100):\n",
    "        #코드작성\n",
    "        self.name = name\n",
    "        self.kor = kor\n",
    "        self.eng = eng\n",
    "        self.math = math\n",
    "        \n",
    "    def getSum(self):\n",
    "        sum = self.kor+self.eng+self.math\n",
    "        return sum\n",
    "    def getAvg(self):\n",
    "        avg = self.getSum()//3\n",
    "        return avg\n",
    "    "
   ]
  },
  {
   "cell_type": "code",
   "execution_count": 38,
   "id": "8d02857f",
   "metadata": {},
   "outputs": [
    {
     "name": "stdout",
     "output_type": "stream",
     "text": [
      "student name : 김연아\n",
      "student kor : 100\n",
      "student eng : 100\n",
      "student math : 100\n",
      "student Sum : 300\n",
      "student Avg : 100\n"
     ]
    }
   ],
   "source": [
    "student = Student('김연아',100,100,100)\n",
    "print('student name : {}'.format(student.name))\n",
    "print('student kor : {}'.format(student.kor))\n",
    "print('student eng : {}'.format(student.eng))\n",
    "print('student math : {}'.format(student.math))\n",
    "print('student Sum : {}'.format(student.getSum()))\n",
    "print('student Avg : {}'.format(student.getAvg()))"
   ]
  },
  {
   "cell_type": "code",
   "execution_count": null,
   "id": "35a0b3db",
   "metadata": {},
   "outputs": [],
   "source": []
  },
  {
   "cell_type": "code",
   "execution_count": null,
   "id": "2f9a5f7b",
   "metadata": {},
   "outputs": [],
   "source": []
  },
  {
   "cell_type": "code",
   "execution_count": null,
   "id": "3d930592",
   "metadata": {},
   "outputs": [],
   "source": []
  }
 ],
 "metadata": {
  "kernelspec": {
   "display_name": "Python 3 (ipykernel)",
   "language": "python",
   "name": "python3"
  },
  "language_info": {
   "codemirror_mode": {
    "name": "ipython",
    "version": 3
   },
   "file_extension": ".py",
   "mimetype": "text/x-python",
   "name": "python",
   "nbconvert_exporter": "python",
   "pygments_lexer": "ipython3",
   "version": "3.9.13"
  }
 },
 "nbformat": 4,
 "nbformat_minor": 5
}
