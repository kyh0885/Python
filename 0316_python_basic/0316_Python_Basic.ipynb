{
 "cells": [
  {
   "cell_type": "code",
   "execution_count": null,
   "id": "b055b713",
   "metadata": {},
   "outputs": [],
   "source": [
    "print('hello world')"
   ]
  },
  {
   "cell_type": "code",
   "execution_count": 8,
   "id": "b3441aef",
   "metadata": {},
   "outputs": [],
   "source": [
    "a=1"
   ]
  },
  {
   "cell_type": "code",
   "execution_count": 9,
   "id": "347dee6a",
   "metadata": {},
   "outputs": [
    {
     "name": "stdout",
     "output_type": "stream",
     "text": [
      "<class 'int'>\n"
     ]
    }
   ],
   "source": [
    "print(type(a))"
   ]
  },
  {
   "cell_type": "code",
   "execution_count": 10,
   "id": "eacf400a",
   "metadata": {},
   "outputs": [],
   "source": [
    "a='1'"
   ]
  },
  {
   "cell_type": "code",
   "execution_count": 11,
   "id": "b85c58b5",
   "metadata": {},
   "outputs": [
    {
     "name": "stdout",
     "output_type": "stream",
     "text": [
      "<class 'str'>\n"
     ]
    }
   ],
   "source": [
    "print(type(a))"
   ]
  },
  {
   "cell_type": "code",
   "execution_count": 18,
   "id": "16e32294",
   "metadata": {},
   "outputs": [],
   "source": [
    "a=[1,2,3,4,5,6]"
   ]
  },
  {
   "cell_type": "code",
   "execution_count": 19,
   "id": "43a6b4d2",
   "metadata": {},
   "outputs": [
    {
     "name": "stdout",
     "output_type": "stream",
     "text": [
      "<class 'list'>\n"
     ]
    }
   ],
   "source": [
    "print(type(a))"
   ]
  },
  {
   "cell_type": "code",
   "execution_count": 20,
   "id": "0d8b2313",
   "metadata": {},
   "outputs": [],
   "source": [
    "a={'1':1,'2':2,'3':3,'4':4,'5':5,'6':6}"
   ]
  },
  {
   "cell_type": "code",
   "execution_count": 22,
   "id": "954d2911",
   "metadata": {},
   "outputs": [
    {
     "name": "stdout",
     "output_type": "stream",
     "text": [
      "<class 'dict'>\n"
     ]
    }
   ],
   "source": [
    "print(type(a))"
   ]
  },
  {
   "cell_type": "code",
   "execution_count": 23,
   "id": "07e2d7de",
   "metadata": {},
   "outputs": [],
   "source": [
    "a = 1+2+3"
   ]
  },
  {
   "cell_type": "code",
   "execution_count": 24,
   "id": "9d555cf3",
   "metadata": {},
   "outputs": [
    {
     "name": "stdout",
     "output_type": "stream",
     "text": [
      "6\n"
     ]
    }
   ],
   "source": [
    "print(a)"
   ]
  },
  {
   "cell_type": "code",
   "execution_count": 25,
   "id": "350adda1",
   "metadata": {},
   "outputs": [
    {
     "name": "stdout",
     "output_type": "stream",
     "text": [
      "a= -55.6764\n",
      "a=0.6666666666666666\n",
      "<class 'float'>\n"
     ]
    }
   ],
   "source": [
    "#float\n",
    "a = 128.8+38-222.4764\n",
    "print('a= '+str(a))\n",
    "a=2/3\n",
    "print ('a='+str(a))\n",
    "print(type(a))"
   ]
  },
  {
   "cell_type": "code",
   "execution_count": 29,
   "id": "2ebc5db2",
   "metadata": {},
   "outputs": [
    {
     "name": "stdout",
     "output_type": "stream",
     "text": [
      "a= 3\n"
     ]
    }
   ],
   "source": [
    "# // 소수점 절삭 연산자\n",
    "a=10//3\n",
    "print('a= '+str(a))"
   ]
  },
  {
   "cell_type": "code",
   "execution_count": 30,
   "id": "40071035",
   "metadata": {},
   "outputs": [
    {
     "name": "stdout",
     "output_type": "stream",
     "text": [
      "a= 8\n",
      "a= 81\n"
     ]
    }
   ],
   "source": [
    "# **제곱연산자\n",
    "a=2**3\n",
    "print('a= '+str(a))\n",
    "a=3**4\n",
    "print('a= '+str(a))"
   ]
  },
  {
   "cell_type": "code",
   "execution_count": 34,
   "id": "d2c304ba",
   "metadata": {},
   "outputs": [
    {
     "name": "stdout",
     "output_type": "stream",
     "text": [
      "a= hello world\n",
      "a= hello worldhello worldhello world\n",
      "a[0]= h\n",
      "a[1]= e\n",
      "a[2]= l\n",
      "a[3]= l\n",
      "a[4]= o\n",
      "a[5]=  \n",
      "a[6:9]= wor\n"
     ]
    }
   ],
   "source": [
    "#  문자열 (string)\n",
    "a= 'hello world'\n",
    "print('a= '+str(a))\n",
    "a= 'hello world'*3\n",
    "print('a= '+str(a))\n",
    "\n",
    "a= 'hello world'\n",
    "print('a[0]= '+a[0])\n",
    "print('a[1]= '+a[1])\n",
    "print('a[2]= '+a[2])\n",
    "print('a[3]= '+a[3])\n",
    "print('a[4]= '+a[4])\n",
    "print('a[5]= '+a[5])\n",
    "print('a[6:9]= '+a[6:9])\n"
   ]
  },
  {
   "cell_type": "code",
   "execution_count": 36,
   "id": "0a7b35ae",
   "metadata": {},
   "outputs": [
    {
     "name": "stdout",
     "output_type": "stream",
     "text": [
      "나는 빨강을 좋아합니다 \n",
      "나는 초록을 좋아합니다.\n"
     ]
    }
   ],
   "source": [
    "color = '빨강'\n",
    "fmt = '나는 %s을 좋아합니다 ' %color\n",
    "print(fmt)\n",
    "color = '초록'\n",
    "fmt = '나는 %s을 좋아합니다.' %color\n",
    "print(fmt)\n"
   ]
  },
  {
   "cell_type": "code",
   "execution_count": 1,
   "id": "6479bd0e",
   "metadata": {},
   "outputs": [
    {
     "name": "stdout",
     "output_type": "stream",
     "text": [
      "sum: 280, avg : 93.333333\n",
      "result type :: <class 'tuple'>\n"
     ]
    }
   ],
   "source": [
    "kor = 88\n",
    "eng = 95\n",
    "math = 97\n",
    "sum = kor+eng+math\n",
    "avg = sum/3\n",
    "fmt = 'sum: %d, avg : %f' %(sum,avg)\n",
    "result =(sum,avg)\n",
    "print(fmt)\n",
    "\n",
    "print('result type :: ' + str(type(result)))"
   ]
  },
  {
   "cell_type": "markdown",
   "id": "20ccabd3",
   "metadata": {},
   "source": [
    "Tuple -(a,b), List-[1,2], Dict-{'a':1}\n",
    "tuple- read only\n",
    "List - 수정 가능\n",
    "Dict - "
   ]
  },
  {
   "cell_type": "code",
   "execution_count": 2,
   "id": "314f5199",
   "metadata": {},
   "outputs": [
    {
     "name": "stdout",
     "output_type": "stream",
     "text": [
      "input your name:  55\n",
      "name is 55\n"
     ]
    }
   ],
   "source": [
    "name = input('input your name:  ')\n",
    "print('name is ' + name)"
   ]
  },
  {
   "cell_type": "code",
   "execution_count": null,
   "id": "49e089a6",
   "metadata": {},
   "outputs": [],
   "source": [
    "a= input ('input integer value : ')\n",
    "print('value is +'+ a)\n",
    "b= input ('input integer value : ')\n",
    "print('value is '+ b)\n",
    "a = int (a)\n",
    "b = int (b)\n",
    "print('sum = ' + str(a+b))\n",
    "print('sub = ' + str(a-b))\n",
    "print('mul = ' + str(a*b))\n",
    "print('div = ' + str(a/b))\n"
   ]
  },
  {
   "cell_type": "code",
   "execution_count": 2,
   "id": "d48b826e",
   "metadata": {},
   "outputs": [
    {
     "name": "stdout",
     "output_type": "stream",
     "text": [
      "물건 가격 : 1500\n",
      "구매 갯수 : 12\n",
      "지불 금액2\n",
      "물건 가격 : 1500\n"
     ]
    }
   ],
   "source": [
    "price = int(input('물건 가격 : '))\n",
    "num = int(input('구매 갯수 : '))\n",
    "pay = int(input('지불 금액'))\n",
    "change = pay - price * num\n",
    "print('물건 가격 : ' + str(price))"
   ]
  },
  {
   "cell_type": "markdown",
   "id": "f71dfdc4",
   "metadata": {},
   "source": [
    "Python Logic - if and for..."
   ]
  },
  {
   "cell_type": "code",
   "execution_count": 2,
   "id": "9afe131d",
   "metadata": {},
   "outputs": [
    {
     "name": "stdout",
     "output_type": "stream",
     "text": [
      " input x value : 11\n",
      "x>10\n"
     ]
    }
   ],
   "source": [
    "x = input (' input x value : ')\n",
    "x = int (x)\n",
    "if x>100:\n",
    "    print('positive')\n",
    "elif x>10:\n",
    "    print('x>10')\n",
    "else:\n",
    "    print('negative')"
   ]
  },
  {
   "cell_type": "code",
   "execution_count": 4,
   "id": "da07f06e",
   "metadata": {},
   "outputs": [
    {
     "name": "stdout",
     "output_type": "stream",
     "text": [
      "5>2 : True\n",
      "5>2 : False\n",
      "5>2 : False\n",
      "5>2 : True\n",
      "5>2 : False\n",
      "5>2 : True\n"
     ]
    }
   ],
   "source": [
    "a=5\n",
    "b=2\n",
    "print(\"{a}>{b} : \" .format(a=a, b=b) +str(a>b))\n",
    "print(\"{a}>{b} : \" .format(a=a, b=b) +str(a<b))\n",
    "print(\"{a}>{b} : \" .format(a=a, b=b) +str(a==b))\n",
    "print(\"{a}>{b} : \" .format(a=a, b=b) +str(a!=b))\n",
    "print(\"{a}>{b} : \" .format(a=a, b=b) +str(a<=b))\n",
    "print(\"{a}>{b} : \" .format(a=a, b=b) +str(a>=b))\n"
   ]
  },
  {
   "cell_type": "code",
   "execution_count": null,
   "id": "7da6bc5e",
   "metadata": {},
   "outputs": [],
   "source": [
    "#논리연산자\n",
    "kor = 80\n",
    "eng = 90\n",
    "comp = kor>=70 and eng>=90\n",
    "print('comp type : 'str(type(comp))+ ', value: '+str(comp))\n",
    "comp = kor> 70 or eng >=90\n",
    "print('comp type : 'str(type(comp))+ ', value: '+str(comp))\n",
    "comp = not kor == 70\n",
    "print('== type : 'str(type(comp))+ ', value: '+str(comp))\n",
    "\n",
    "x=5\n",
    "comp = x%2==0\n",
    "print()\n"
   ]
  },
  {
   "cell_type": "code",
   "execution_count": 10,
   "id": "87a531e8",
   "metadata": {},
   "outputs": [
    {
     "name": "stdout",
     "output_type": "stream",
     "text": [
      "정수를 입력하세요 : 10\n",
      "입력된 정수 : 10 입니다\n",
      "입력된 정수는 100~ 1000사이에 있지 않습니다!\n"
     ]
    }
   ],
   "source": [
    "# Quiz 1\n",
    "\n",
    "num = int(input('정수를 입력하세요 : '))\n",
    "result = '입력된 정수는 100~ 1000사이에 있지 않습니다!'\n",
    "if num >= 100 and num<=1000:\n",
    "    result = '입력된 정수는 100~1000 사이에 있습니다!'\n",
    "        \n",
    "print('입력된 정수 : ' + str(num) +' 입니다')\n",
    "print(''+str(result))"
   ]
  },
  {
   "cell_type": "code",
   "execution_count": 15,
   "id": "43d9bd3c",
   "metadata": {},
   "outputs": [
    {
     "name": "stdout",
     "output_type": "stream",
     "text": [
      "영어 소문자 하나를 입력하세요 : i\n",
      "i -> 모음\n"
     ]
    }
   ],
   "source": [
    "# Quiz 2\n",
    "\n",
    "char = (input('영어 소문자 하나를 입력하세요 : '))\n",
    "if(char == 'a' or char =='e' or char == 'i'or char == 'o' or char =='u'):\n",
    "    print ('%s -> 모음' %char)\n",
    "else:\n",
    "    print ('%s -> 자음' %char)"
   ]
  },
  {
   "cell_type": "code",
   "execution_count": 21,
   "id": "914f3260",
   "metadata": {},
   "outputs": [
    {
     "name": "stdout",
     "output_type": "stream",
     "text": [
      "월을 입력해 주세요 : 1\n",
      "1 월은 겨울 입니다.\n"
     ]
    }
   ],
   "source": [
    "#Quiz 3\n",
    "\n",
    "month = int (input('월을 입력해 주세요 : '))\n",
    "if month >= 3 and month <=5:\n",
    "    seoson = '봄'\n",
    "    print (month, '월은', seoson,'입니다.')\n",
    "elif month >= 6 and month <=8:\n",
    "    seoson = '여름'\n",
    "    print (month, '월은', seoson,'입니다.')\n",
    "elif month >= 9 and month <=11:\n",
    "    seoson = '가을'\n",
    "    print (month, '월은', seoson,'입니다.') \n",
    "elif month == 12 or month == 1 or month == 2:\n",
    "    seoson = '겨울'\n",
    "    print (month, '월은', seoson,'입니다.') \n",
    "else:\n",
    "    print('월이 잘못 입력되었습니다!')\n",
    "    "
   ]
  },
  {
   "cell_type": "markdown",
   "id": "5e4c0a71",
   "metadata": {},
   "source": [
    "### For 반복문"
   ]
  },
  {
   "cell_type": "code",
   "execution_count": 38,
   "id": "e6c5f861",
   "metadata": {},
   "outputs": [
    {
     "name": "stdout",
     "output_type": "stream",
     "text": [
      "[0] hello world\n",
      "[1] hello world\n",
      "[2] hello world\n",
      "[3] hello world\n",
      "[4] hello world\n",
      "==============================\n",
      "apple\n",
      "cherry\n",
      "2\n",
      "3\n",
      "4\n",
      "5\n",
      "apple apple\n",
      "apple banana\n",
      "apple cherry\n",
      "banana apple\n",
      "banana banana\n",
      "banana cherry\n",
      "cherry apple\n",
      "cherry banana\n",
      "cherry cherry\n",
      "==============================\n",
      "0\n",
      "1\n",
      "2\n",
      "3\n",
      "4\n",
      "5\n",
      "6\n"
     ]
    }
   ],
   "source": [
    "cnt = 5\n",
    "for i in range(cnt):\n",
    "    print('[{}] hello world'.format(i))\n",
    "    \n",
    "fruits = ['apple','banana','cherry']\n",
    "print('==='*10)\n",
    "for fruit in fruits:\n",
    "    if fruit =='banana':\n",
    "        continue;\n",
    "    print(fruit)\n",
    "    \n",
    "    \n",
    "for x in range(2,6):\n",
    "    print(x)\n",
    "    \n",
    "for x in fruits:\n",
    "    for y in fruits:\n",
    "        print(x,y)\n",
    "print('==='*10)\n",
    "for x in [0,1,2,3,4,5,6]:\n",
    "    print(x)"
   ]
  },
  {
   "cell_type": "markdown",
   "id": "3ef8e7fb",
   "metadata": {},
   "source": [
    "구구단"
   ]
  },
  {
   "cell_type": "code",
   "execution_count": 20,
   "id": "e18fff82",
   "metadata": {},
   "outputs": [
    {
     "name": "stdout",
     "output_type": "stream",
     "text": [
      "2 x 2 = 4\t2 x 3 = 6\t2 x 4 = 8\t2 x 5 = 10\t2 x 6 = 12\t2 x 7 = 14\t2 x 8 = 16\t2 x 9 = 18\t3 x 2 = 6\t3 x 3 = 9\t3 x 4 = 12\t3 x 5 = 15\t3 x 6 = 18\t3 x 7 = 21\t3 x 8 = 24\t3 x 9 = 27\t4 x 2 = 8\t4 x 3 = 12\t4 x 4 = 16\t4 x 5 = 20\t4 x 6 = 24\t4 x 7 = 28\t4 x 8 = 32\t4 x 9 = 36\t5 x 2 = 10\t5 x 3 = 15\t5 x 4 = 20\t5 x 5 = 25\t5 x 6 = 30\t5 x 7 = 35\t5 x 8 = 40\t5 x 9 = 45\t6 x 2 = 12\t6 x 3 = 18\t6 x 4 = 24\t6 x 5 = 30\t6 x 6 = 36\t6 x 7 = 42\t6 x 8 = 48\t6 x 9 = 54\t7 x 2 = 14\t7 x 3 = 21\t7 x 4 = 28\t7 x 5 = 35\t7 x 6 = 42\t7 x 7 = 49\t7 x 8 = 56\t7 x 9 = 63\t8 x 2 = 16\t8 x 3 = 24\t8 x 4 = 32\t8 x 5 = 40\t8 x 6 = 48\t8 x 7 = 56\t8 x 8 = 64\t8 x 9 = 72\t9 x 2 = 18\t9 x 3 = 27\t9 x 4 = 36\t9 x 5 = 45\t9 x 6 = 54\t9 x 7 = 63\t9 x 8 = 72\t9 x 9 = 81\t"
     ]
    }
   ],
   "source": [
    "for x in range(2,10):\n",
    "    for y in range(2,10):\n",
    "        print(x ,'x', y ,'=', x*y , end = '\\t')\n",
    "\n"
   ]
  },
  {
   "cell_type": "code",
   "execution_count": 21,
   "id": "34294da1",
   "metadata": {},
   "outputs": [
    {
     "name": "stdout",
     "output_type": "stream",
     "text": [
      "2x1=2\t3x1=3\t4x1=4\t5x1=5\t6x1=6\t7x1=7\t8x1=8\t9x1=9\t\n",
      "2x2=4\t3x2=6\t4x2=8\t5x2=10\t6x2=12\t7x2=14\t8x2=16\t9x2=18\t\n",
      "2x3=6\t3x3=9\t4x3=12\t5x3=15\t6x3=18\t7x3=21\t8x3=24\t9x3=27\t\n",
      "2x4=8\t3x4=12\t4x4=16\t5x4=20\t6x4=24\t7x4=28\t8x4=32\t9x4=36\t\n",
      "2x5=10\t3x5=15\t4x5=20\t5x5=25\t6x5=30\t7x5=35\t8x5=40\t9x5=45\t\n",
      "2x6=12\t3x6=18\t4x6=24\t5x6=30\t6x6=36\t7x6=42\t8x6=48\t9x6=54\t\n",
      "2x7=14\t3x7=21\t4x7=28\t5x7=35\t6x7=42\t7x7=49\t8x7=56\t9x7=63\t\n",
      "2x8=16\t3x8=24\t4x8=32\t5x8=40\t6x8=48\t7x8=56\t8x8=64\t9x8=72\t\n",
      "2x9=18\t3x9=27\t4x9=36\t5x9=45\t6x9=54\t7x9=63\t8x9=72\t9x9=81\t\n"
     ]
    }
   ],
   "source": [
    "for row in range(1,10):\n",
    "    line = ''\n",
    "    for col in range(2,10,1):\n",
    "        line += '{}x{}={}\\t'.format(col,row,col*row)\n",
    "    print (line)"
   ]
  },
  {
   "cell_type": "markdown",
   "id": "1399a60d",
   "metadata": {},
   "source": [
    "### 리스트"
   ]
  },
  {
   "cell_type": "code",
   "execution_count": 31,
   "id": "d27f0338",
   "metadata": {},
   "outputs": [
    {
     "name": "stdout",
     "output_type": "stream",
     "text": [
      "['red', 'green', 'blue', 'black', 'white']\n",
      "<class 'list'>\n",
      "['green', 'blue', 'black']\n",
      "==============================\n",
      "[8, 10, 12, 14]\n",
      "2\n",
      "4\n",
      "6\n",
      "8\n",
      "10\n",
      "12\n",
      "14\n",
      "16\n",
      "18\n",
      "20\n",
      "==============================\n",
      "사자\n",
      "호랑이\n",
      "원숭이\n",
      "곰\n",
      "사슴\n",
      "==============================\n",
      "['무궁화', '장미', '개나리']\n",
      "['무궁화', '장미', '개나리', '벗꽂']\n",
      "['무궁화', '개나리', '벗꽂']\n"
     ]
    }
   ],
   "source": [
    "color=['red','green','blue','black','white']\n",
    "print(color)\n",
    "print(type(color))\n",
    "print(color[1:4])\n",
    "print('==='*10)\n",
    "\n",
    "nums = list(range(2,21,2))\n",
    "print(nums[3:7])\n",
    "for x in nums:\n",
    "    print(x)\n",
    "    \n",
    "print('==='*10)\n",
    "\n",
    "animals = ['사자','호랑이','원숭이','곰','사슴']\n",
    "i=0\n",
    "while i<len(animals):\n",
    "    print(animals[i])\n",
    "    i=i+1\n",
    "print('==='*10)\n",
    "\n",
    "flower = ['무궁화','장미','개나리']\n",
    "print(flower)\n",
    "flower.append('벗꽂') #추가\n",
    "print(flower)\n",
    "flower.remove('장미') #삭제\n",
    "print(flower)"
   ]
  },
  {
   "cell_type": "code",
   "execution_count": null,
   "id": "6cd62593",
   "metadata": {},
   "outputs": [],
   "source": [
    "#Quiz 1"
   ]
  },
  {
   "cell_type": "code",
   "execution_count": 41,
   "id": "e0c95d1c",
   "metadata": {},
   "outputs": [
    {
     "name": "stdout",
     "output_type": "stream",
     "text": [
      "성적을 입력하세요(종료시 -1입력 ): 4\n",
      "성적을 입력하세요(종료시 -1입력 ): 46\n",
      "성적을 입력하세요(종료시 -1입력 ): 464\n",
      "성적을 입력하세요(종료시 -1입력 ): -1\n",
      "총합은,514, 이고, 평균은, 171.33333333333334, 입니다.\n"
     ]
    }
   ],
   "source": [
    "scores = []\n",
    "while True:\n",
    "    x = int(input('성적을 입력하세요(종료시 -1입력 ): '))\n",
    "    if x == -1:\n",
    "        break\n",
    "    else:\n",
    "        scores.append(x)\n",
    "sum = 0\n",
    "for score in scores:\n",
    "    sum = sum + score\n",
    "    \n",
    "avg = sum / len(scores)\n",
    "print(\"총합은{} 이고, 평균은 {} 입니다.\".format(sum,avg))\n"
   ]
  },
  {
   "cell_type": "code",
   "execution_count": 44,
   "id": "8f2ff0c4",
   "metadata": {},
   "outputs": [
    {
     "name": "stdout",
     "output_type": "stream",
     "text": [
      "[[1, 2, 3, 10], [4, 5, 6, 10], [7, 8, 9, 10]]\n",
      "row 3\n",
      "col 4\n",
      "numbers[0][0]=1\n",
      "numbers[0][1]=2\n",
      "numbers[0][2]=3\n",
      "numbers[0][3]=10\n",
      "numbers[1][0]=4\n",
      "numbers[1][1]=5\n",
      "numbers[1][2]=6\n",
      "numbers[1][3]=10\n",
      "numbers[2][0]=7\n",
      "numbers[2][1]=8\n",
      "numbers[2][2]=9\n",
      "numbers[2][3]=10\n"
     ]
    }
   ],
   "source": [
    "numbers = [ [1,2,3,10],\n",
    "           [4,5,6,10],\n",
    "           [7,8,9,10] ]\n",
    "print(numbers)\n",
    "i_len =len(numbers)\n",
    "j_len= len(numbers[i])\n",
    "print('row', i_len)\n",
    "print ('col',j_len)\n",
    "for i in range(len(numbers)):\n",
    "    for j in range (len(numbers[i])):\n",
    "        print('numbers[{}][{}]={}'.format(i,j,numbers[i][j]))"
   ]
  },
  {
   "cell_type": "code",
   "execution_count": 13,
   "id": "d884311b",
   "metadata": {},
   "outputs": [
    {
     "name": "stdout",
     "output_type": "stream",
     "text": [
      "[[75, 83, 90], [86, 86, 73], [76, 95, 83], [89, 96, 69], [89, 76, 93]]\n",
      "0번째 학생의 합계 : 248 평균: 82.66666666666667\n",
      "1번째 학생의 합계 : 245 평균: 81.66666666666667\n",
      "2번째 학생의 합계 : 254 평균: 84.66666666666667\n",
      "3번째 학생의 합계 : 254 평균: 84.66666666666667\n",
      "4번째 학생의 합계 : 258 평균: 86.0\n"
     ]
    }
   ],
   "source": [
    "scores = [\n",
    "    [75,83,90],\n",
    "    [86,86,73],\n",
    "    [76,95,83],\n",
    "    [89,96,69],\n",
    "    [89,76,93]\n",
    "]\n",
    "print(scores)\n",
    "row_len = len(scores)\n",
    "\n",
    "for i in range(len(scores)):\n",
    "    sum = 0\n",
    "    for j in range(len(scores[i])):\n",
    "        sum = sum + scores[i][j]\n",
    "        avg = sum / len(scores[i])\n",
    "    print(\"{}번째 학생의 합계 : {} 평균: {}\".format(i,sum,avg))"
   ]
  },
  {
   "cell_type": "markdown",
   "id": "15f2711c",
   "metadata": {},
   "source": [
    "# "
   ]
  },
  {
   "cell_type": "markdown",
   "id": "207db665",
   "metadata": {},
   "source": [
    "# Function"
   ]
  },
  {
   "cell_type": "code",
   "execution_count": 35,
   "id": "8d1dc9ec",
   "metadata": {},
   "outputs": [],
   "source": [
    "#def hello(): #function define\n",
    "def hello(name): #function define\n",
    "    print('{} : This is hello function'.format(name))"
   ]
  },
  {
   "cell_type": "code",
   "execution_count": 38,
   "id": "179793b5",
   "metadata": {},
   "outputs": [
    {
     "name": "stdout",
     "output_type": "stream",
     "text": [
      "apple : This is hello function\n",
      "banana : This is hello function\n",
      "cherry : This is hello function\n"
     ]
    }
   ],
   "source": [
    "fruits = ['apple','banana','cherry']\n",
    "for x in fruits:\n",
    "    hello(x)"
   ]
  },
  {
   "cell_type": "code",
   "execution_count": 39,
   "id": "cfca2e52",
   "metadata": {},
   "outputs": [],
   "source": [
    "def sum(a,b):\n",
    "    return a+b"
   ]
  },
  {
   "cell_type": "code",
   "execution_count": 40,
   "id": "02f7f107",
   "metadata": {},
   "outputs": [
    {
     "data": {
      "text/plain": [
       "20"
      ]
     },
     "execution_count": 40,
     "metadata": {},
     "output_type": "execute_result"
    }
   ],
   "source": [
    "sum(10,10)"
   ]
  },
  {
   "cell_type": "code",
   "execution_count": 41,
   "id": "aa58a742",
   "metadata": {},
   "outputs": [],
   "source": [
    "def calc(a,b):\n",
    "    sum = a+b\n",
    "    avg = sum/2\n",
    "    return sum, avg"
   ]
  },
  {
   "cell_type": "code",
   "execution_count": 43,
   "id": "60b4dd5c",
   "metadata": {},
   "outputs": [
    {
     "data": {
      "text/plain": [
       "(20, 10.0)"
      ]
     },
     "execution_count": 43,
     "metadata": {},
     "output_type": "execute_result"
    }
   ],
   "source": [
    "calc(10,10)"
   ]
  },
  {
   "cell_type": "code",
   "execution_count": 1,
   "id": "07066ace",
   "metadata": {},
   "outputs": [],
   "source": [
    "def sum(start, end):\n",
    "    \n",
    "    hap = 0\n",
    "    for i in range(start, end+1):\n",
    "        hap = hap +i\n",
    "    print(\"{}~{}의 정수의 합계: {}\".format(start,end,hap))"
   ]
  },
  {
   "cell_type": "code",
   "execution_count": 5,
   "id": "c6722747",
   "metadata": {},
   "outputs": [
    {
     "name": "stdout",
     "output_type": "stream",
     "text": [
      "1~10의 정수의 합계: 55\n",
      "100~200의 정수의 합계: 15150\n",
      "200~300의 정수의 합계: 25250\n"
     ]
    }
   ],
   "source": [
    "sum(1,10)\n",
    "sum(100,200)\n",
    "sum(200,300)"
   ]
  },
  {
   "cell_type": "markdown",
   "id": "9acb6ffc",
   "metadata": {},
   "source": [
    "# File I/O"
   ]
  },
  {
   "cell_type": "code",
   "execution_count": 7,
   "id": "2f3444bd",
   "metadata": {},
   "outputs": [
    {
     "name": "stdout",
     "output_type": "stream",
     "text": [
      "sample.tct 파일쓰기 완료\n"
     ]
    }
   ],
   "source": [
    "file = open('sample.txt','w')\n",
    "file.write('안녕하세요. KCCI 수업중입니다.')\n",
    "file.close()\n",
    "print('sample.tct 파일쓰기 완료')"
   ]
  },
  {
   "cell_type": "code",
   "execution_count": 11,
   "id": "8bfcb077",
   "metadata": {},
   "outputs": [
    {
     "name": "stdout",
     "output_type": "stream",
     "text": [
      "안소영 9780939793\n",
      "정예린 86100938690\n",
      "김윤희 970311\n",
      "연수정 456456456\n",
      "박지아 789789789\n",
      "\n"
     ]
    }
   ],
   "source": [
    "scores= ['안소영 9780939793',\n",
    "        '정예린 86100938690',\n",
    "        '김윤희 970311',\n",
    "        '연수정 456456456',\n",
    "        '박지아 789789789']\n",
    "data=''\n",
    "for item in scores:\n",
    "    data=data+item+'\\n'\n",
    "print (data)\n",
    "file=open('scores.txt','w')\n",
    "file.write(data)\n",
    "file.close()"
   ]
  },
  {
   "cell_type": "code",
   "execution_count": 12,
   "id": "ca99d4b2",
   "metadata": {},
   "outputs": [
    {
     "name": "stdout",
     "output_type": "stream",
     "text": [
      "['안소영 9780939793\\n', '정예린 86100938690\\n', '김윤희 970311\\n', '연수정 456456456\\n', '박지아 789789789\\n']\n",
      "안소영 9780939793\n",
      "정예린 86100938690\n",
      "김윤희 970311\n",
      "연수정 456456456\n",
      "박지아 789789789\n"
     ]
    }
   ],
   "source": [
    "file = open('scores.txt', 'r')\n",
    "lines = file.readlines()\n",
    "print(lines)\n",
    "for line in lines:\n",
    "    print(line, end='')\n",
    "file.close()"
   ]
  },
  {
   "cell_type": "code",
   "execution_count": null,
   "id": "bc37493f",
   "metadata": {},
   "outputs": [],
   "source": []
  },
  {
   "cell_type": "code",
   "execution_count": null,
   "id": "ed741989",
   "metadata": {},
   "outputs": [],
   "source": []
  },
  {
   "cell_type": "code",
   "execution_count": null,
   "id": "1d943b9e",
   "metadata": {},
   "outputs": [],
   "source": []
  },
  {
   "cell_type": "code",
   "execution_count": null,
   "id": "90e8a2ec",
   "metadata": {},
   "outputs": [],
   "source": []
  },
  {
   "cell_type": "code",
   "execution_count": null,
   "id": "710520b8",
   "metadata": {},
   "outputs": [],
   "source": []
  },
  {
   "cell_type": "code",
   "execution_count": null,
   "id": "c2cfad51",
   "metadata": {},
   "outputs": [],
   "source": []
  }
 ],
 "metadata": {
  "kernelspec": {
   "display_name": "Python 3 (ipykernel)",
   "language": "python",
   "name": "python3"
  },
  "language_info": {
   "codemirror_mode": {
    "name": "ipython",
    "version": 3
   },
   "file_extension": ".py",
   "mimetype": "text/x-python",
   "name": "python",
   "nbconvert_exporter": "python",
   "pygments_lexer": "ipython3",
   "version": "3.9.13"
  }
 },
 "nbformat": 4,
 "nbformat_minor": 5
}
