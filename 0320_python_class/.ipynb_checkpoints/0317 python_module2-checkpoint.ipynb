{
 "cells": [
  {
   "cell_type": "code",
   "execution_count": 8,
   "id": "7924914c",
   "metadata": {},
   "outputs": [
    {
     "name": "stdout",
     "output_type": "stream",
     "text": [
      "a : 10\n",
      "b:  30\n",
      "두값의 합은 같다\n"
     ]
    }
   ],
   "source": [
    "a=int(input('a : '))\n",
    "b=int(input('b:  '))\n",
    "c1= a + b\n",
    "c2= b + a\n",
    "if c1 == c2 : print('두값의 합은 같다')"
   ]
  },
  {
   "cell_type": "code",
   "execution_count": 24,
   "id": "b4ee43ba",
   "metadata": {},
   "outputs": [
    {
     "name": "stdout",
     "output_type": "stream",
     "text": [
      "barcode : :::||\n",
      "numbers : 1\n",
      ":::||->1\n"
     ]
    }
   ],
   "source": [
    "def barcode(code):\n",
    "    if code =='||:::' : num='0'\n",
    "    elif code == ':::||':num='1'\n",
    "    elif code =='||:::': num='2'\n",
    "    return num\n",
    "\n",
    "def num(num):\n",
    "    if num=='0' : code ='||:::'\n",
    "    elif num=='1': code = ':::||'\n",
    "    elif num=='2': code ='||:::' \n",
    "    return code\n",
    "\n",
    "a = str(input('barcode : '))\n",
    "b = int(input('numbers : '))\n",
    "\n",
    "num=''\n",
    "for i in range(len(a)):\n",
    "    num = num + barcode()\n",
    "    print(num)\n",
    "    \n",
    "    \n",
    "code = barcode(a)\n",
    "print('{}->{}'.format(a,code))"
   ]
  },
  {
   "cell_type": "code",
   "execution_count": null,
   "id": "77c1fcf4",
   "metadata": {},
   "outputs": [],
   "source": []
  },
  {
   "cell_type": "code",
   "execution_count": null,
   "id": "dad1e89a",
   "metadata": {},
   "outputs": [],
   "source": []
  },
  {
   "cell_type": "code",
   "execution_count": null,
   "id": "72e024cf",
   "metadata": {},
   "outputs": [],
   "source": []
  }
 ],
 "metadata": {
  "kernelspec": {
   "display_name": "Python 3 (ipykernel)",
   "language": "python",
   "name": "python3"
  },
  "language_info": {
   "codemirror_mode": {
    "name": "ipython",
    "version": 3
   },
   "file_extension": ".py",
   "mimetype": "text/x-python",
   "name": "python",
   "nbconvert_exporter": "python",
   "pygments_lexer": "ipython3",
   "version": "3.9.13"
  }
 },
 "nbformat": 4,
 "nbformat_minor": 5
}
