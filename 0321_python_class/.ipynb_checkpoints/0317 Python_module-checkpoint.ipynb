{
 "cells": [
  {
   "cell_type": "code",
   "execution_count": 1,
   "id": "ce32ba98",
   "metadata": {},
   "outputs": [
    {
     "name": "stdout",
     "output_type": "stream",
     "text": [
      "김연아님 안녕하세요\n",
      "김연아님 만나서 반갑습니다\n"
     ]
    }
   ],
   "source": [
    "import greet as gr\n",
    "\n",
    "gr.hello('김연아')\n",
    "gr.niceMeet('김연아')"
   ]
  },
  {
   "cell_type": "code",
   "execution_count": 2,
   "id": "cc0f0a78",
   "metadata": {},
   "outputs": [
    {
     "name": "stdout",
     "output_type": "stream",
     "text": [
      "김연아님 안녕하세요\n",
      "김연아님 만나서 반갑습니다\n"
     ]
    }
   ],
   "source": [
    "from greet import hello, niceMeet  #greet 모듈로 부터 hello와 niceMeet함수를 import함 greet.을 사용안해도 되도록 함\n",
    "\n",
    "hello('김연아')\n",
    "niceMeet('김연아')"
   ]
  },
  {
   "cell_type": "code",
   "execution_count": 3,
   "id": "49e2d4f7",
   "metadata": {},
   "outputs": [
    {
     "name": "stdout",
     "output_type": "stream",
     "text": [
      "내림 : 3\n",
      "올림 : 4\n",
      "반올림 : 4\n",
      "팩토리얼 : 24\n"
     ]
    }
   ],
   "source": [
    "import math\n",
    "\n",
    "a = 3.6\n",
    "print('내림 : {}'.format(math.floor(a)))\n",
    "print('올림 : {}'.format(math.ceil(a)))\n",
    "print('반올림 : {}'.format(round(a)))\n",
    "print('팩토리얼 : {}'.format(math.factorial(round(a))))"
   ]
  },
  {
   "cell_type": "code",
   "execution_count": 4,
   "id": "13c678ab",
   "metadata": {},
   "outputs": [
    {
     "name": "stdout",
     "output_type": "stream",
     "text": [
      "0.7071067811865476\n",
      "6.123233995736766e-17\n",
      "0.9999999999999999\n"
     ]
    }
   ],
   "source": [
    "b = math.sin(math.pi/4)\n",
    "print(b)\n",
    "b=math.cos(math.pi/2)\n",
    "print(b)\n",
    "b=math.tan(math.pi/4)\n",
    "print(b)"
   ]
  },
  {
   "cell_type": "code",
   "execution_count": 5,
   "id": "6e5daf96",
   "metadata": {},
   "outputs": [
    {
     "name": "stdout",
     "output_type": "stream",
     "text": [
      "8.0\n",
      "12.0\n",
      "3.0\n"
     ]
    }
   ],
   "source": [
    "c = math.pow(2,3)\n",
    "print(c)\n",
    "c= math.sqrt(144)\n",
    "print(c)\n",
    "c=math.log10(1000)\n",
    "print(c)"
   ]
  },
  {
   "cell_type": "code",
   "execution_count": 6,
   "id": "29e8f92e",
   "metadata": {},
   "outputs": [
    {
     "name": "stdout",
     "output_type": "stream",
     "text": [
      "3\n",
      "3\n"
     ]
    }
   ],
   "source": [
    "import random\n",
    "\n",
    "x = random.randint(1,6)\n",
    "print(x)\n",
    "y= random.randint(1,6)\n",
    "print(y)"
   ]
  },
  {
   "cell_type": "code",
   "execution_count": null,
   "id": "9795591d",
   "metadata": {},
   "outputs": [],
   "source": [
    "import random\n",
    "\n",
    "while True:\n",
    "    humnum = input(\"나 : \")\n",
    "    comnum = random.randint(1,3)    #1.가위 , 2.바위, 3.보\n",
    "    compri =''\n",
    "    if comnum == 1:\n",
    "        compri = '가위'\n",
    "    elif comnum == 2:\n",
    "        compri = '바위'\n",
    "    elif comnum == 3:\n",
    "        compri ='보'\n",
    "    print('컴퓨터 : {}'.format(compri))\n",
    "    if humnum == compri:\n",
    "        print('무승부 입니다')\n",
    "    else:\n",
    "        if humnum == '가위':\n",
    "            if comnum == 2:\n",
    "                print('당신이 졌습니다.')\n",
    "            elif comnum == 3:\n",
    "                print('당신이 이겼습니다')\n",
    "        elif humnum == '바위':\n",
    "            if compri== '가위':\n",
    "                print('당신이 이겼습니다')\n",
    "            elif compri == '보':\n",
    "                print('당신이 졌습니다.')\n",
    "        elif humnum == '보':\n",
    "            if compri == '가위':\n",
    "                print('당신이 졌습니다.')\n",
    "            elif compri == '바위':\n",
    "                print('당신이 이겼습니다.')\n",
    "    x = input(\"계속하려면 y를 누르세요, 종료 시에 n을 넣어주세요 : \")\n",
    "    if x=='y':\n",
    "        continue\n",
    "    elif x=='n':\n",
    "        break\n",
    "    else:\n",
    "        print('잘못된 입력')"
   ]
  },
  {
   "cell_type": "markdown",
   "id": "80d2b4b9",
   "metadata": {},
   "source": [
    "# datetime module"
   ]
  },
  {
   "cell_type": "code",
   "execution_count": null,
   "id": "38570031",
   "metadata": {},
   "outputs": [],
   "source": [
    "from datetime import datetime\n",
    "import time\n",
    "\n",
    "today = datetime.now()\n",
    "print(today)\n",
    "print(type(today))\n",
    "print('year is {}'.format(today.year))\n",
    "print('month is {}'.format(today.month))\n",
    "print('day is {}'.format(today.day))\n",
    "print('hour is {}'.format(today.hour))\n",
    "print('minute is {}'.format(today.minute))\n",
    "print('second is {}'.format(today.second))\n",
    "print('microsecond is {:.3f}'.format(today.microsecond/1000))\n",
    "print(\"=\"* 70)\n",
    "\n",
    "time.sleep(4)\n",
    "\n",
    "now = datetime.now()\n",
    "print('year is {}'.format(now.year))\n",
    "print('month is {}'.format(now.month))\n",
    "print('day is {}'.format(now.day))\n",
    "print('hour is {}'.format(now.hour))\n",
    "print('minute is {}'.format(now.minute))\n",
    "print('second is {}'.format(now.second))\n",
    "print('microsecond is {:.3f}'.format(now.microsecond/1000))\n",
    "\n",
    "print('='*70)\n",
    "print('now - pre time is : {}'.format(now - today))\n"
   ]
  },
  {
   "cell_type": "code",
   "execution_count": null,
   "id": "e9a53921",
   "metadata": {},
   "outputs": [],
   "source": [
    "from datetime import datetime\n",
    "import time\n",
    "\n",
    "today = datetime.now()\n",
    "today_str = today.strftime('%Y/%m/%d/ %H:%M:%S')\n",
    "print(today_str)"
   ]
  },
  {
   "cell_type": "markdown",
   "id": "1398dc71",
   "metadata": {},
   "source": [
    "# Logger Function 작성\n",
    "형식 ...... csv\n",
    "    시간                        사람      AI     결과\n",
    "    2023-03-16 13:28:27.220282  가위      보     사람.승리\n",
    "    2023-03-16 13:28:28.220282  바위      바위   무승부\n",
    "    2023-03-16 13:28:29.220282  보        가위   AI.승리\n",
    "    2023-03-16 13:28:30.220282  가위      보     사람.승리\n",
    "    \n",
    "    file i/o\n",
    "    function (사람.AI)\n",
    "        return 승리자\n",
    "    \n",
    "    while\n",
    "        input 사람\n",
    "        random AI\n",
    "        call function()\n",
    "        save log"
   ]
  },
  {
   "cell_type": "code",
   "execution_count": null,
   "id": "b0479814",
   "metadata": {},
   "outputs": [],
   "source": [
    "from datetime import datetime\n",
    "import time , random\n",
    "\n",
    "def rps(human, ai):\n",
    "    humstr = '사람'\n",
    "    aistr = 'AI'\n",
    "    draw = '무승부'\n",
    "    compri =''\n",
    "    if ai == 1:\n",
    "        compri = '가위'\n",
    "    elif ai == 2:\n",
    "        compri = '바위'\n",
    "    elif ai == 3:\n",
    "        compri ='보'\n",
    "    print('컴퓨터 : {}'.format(compri))\n",
    "    if human == compri:\n",
    "        return draw\n",
    "    else:\n",
    "        if (human == '가위' and ai == 3) or (human == '바위' and ai == 1) or (human == '보' and ai == 2):\n",
    "            return humstr\n",
    "        else:\n",
    "            return aistr"
   ]
  },
  {
   "cell_type": "code",
   "execution_count": null,
   "id": "0801b98a",
   "metadata": {},
   "outputs": [],
   "source": [
    "file = open('logging.csv','w')\n",
    "title = '시간,사람,AI,승리자\\n'\n",
    "file.write(title)\n",
    "\n",
    "while True:\n",
    "    human = input(\"가위,바위,보 입력, 0 입력 시 종료 : \")\n",
    "    if human == '0':\n",
    "        print('종료')\n",
    "        break\n",
    "    elif human != '가위' and human != '바위' and human != '보':\n",
    "        print('다시 해')\n",
    "        continue\n",
    "    ai = random.randint(1,3)\n",
    "    aistr = ''\n",
    "    res = rps(human, ai)\n",
    "    if ai == 1:\n",
    "        aistr = '가위'\n",
    "    elif ai == 2:\n",
    "        aistr = '바위'\n",
    "    else:\n",
    "        aistr = '보'\n",
    "    today = datetime.now()\n",
    "    data =' '+str(today)+','+str(human)+','+aistr+','+res+'\\n'\n",
    "    file.write(data)\n",
    "\n",
    "file.close()    "
   ]
  },
  {
   "cell_type": "markdown",
   "id": "b8ca4d71",
   "metadata": {},
   "source": [
    "# 코딩...? 제일 먼저 무엇을 시작해야 하나요?"
   ]
  },
  {
   "cell_type": "code",
   "execution_count": null,
   "id": "02892323",
   "metadata": {},
   "outputs": [],
   "source": [
    "file = open('log.csv','w')\n",
    "file.write('시간,사람,AI,승리\\n')\n",
    "file.close()"
   ]
  },
  {
   "cell_type": "code",
   "execution_count": null,
   "id": "d41b15a9",
   "metadata": {},
   "outputs": [],
   "source": [
    "from datetime import datetime\n",
    "import time , random\n",
    "\n",
    "file = open('log.csv','a')\n",
    "\n",
    "while True:\n",
    "    person = input('가위,바위,보 ')\n",
    "    if person == '0':\n",
    "        print('종료')\n",
    "        break;\n",
    "    elif not(person == '가위' or person == '바위' or person == '보'):\n",
    "        print('다시')\n",
    "        continue\n",
    "    ai = random.randint(1,3)\n",
    "    if ai == 1:\n",
    "        compri = '가위'\n",
    "    elif ai == 2:\n",
    "        compri = '바위'\n",
    "    elif ai == 3:\n",
    "        compri ='보'   \n",
    "    if person == compri:\n",
    "        winner = '무승부'\n",
    "    else:\n",
    "        if (person == '가위' and compri == '보') or (person == '바위' and compri == '가위') or (person == '보' and compri == '바위'):\n",
    "            winner = \"사람\"\n",
    "        else:\n",
    "            winner = \"AI\"\n",
    "    today = datetime.now()\n",
    "    file.write('{},{},{},{}\\n'.format(' '+str(today),person,compri,winner))\n",
    "file.close()"
   ]
  },
  {
   "cell_type": "code",
   "execution_count": null,
   "id": "63d33d17",
   "metadata": {},
   "outputs": [],
   "source": [
    "a = int(input('a 입력 : '))\n",
    "b = int(input('b 입력 : '))\n",
    "\n",
    "c = a+b\n",
    "d = b+a\n",
    "\n",
    "if c==d:\n",
    "    print('c : %d, d : %d' %(c,d))\n",
    "    print('교환 법칙 성립')\n",
    "else:\n",
    "    print('거꾸로된 세상')"
   ]
  },
  {
   "cell_type": "markdown",
   "id": "6def2cb7",
   "metadata": {},
   "source": [
    "# 바코드 암호화/복호화 코드"
   ]
  },
  {
   "cell_type": "markdown",
   "id": "ef4e1bc3",
   "metadata": {},
   "source": [
    "123 -> :::||::|:|::||: 으로 출력\n",
    ":::||::|:|::||: -> 123으로 출력하는 코드를 작성해주세요"
   ]
  },
  {
   "cell_type": "code",
   "execution_count": 7,
   "id": "6855568b",
   "metadata": {},
   "outputs": [
    {
     "name": "stdout",
     "output_type": "stream",
     "text": [
      "입력 : 123456789\n",
      "출력 : :::||::|:|::||::|::|:|:|::||::|:::||::|:|:|::\n",
      "--------------------------------------------------\n",
      "입력 : :::||::|:|::||::|::|:|:|::||::|:::||::|:|:|::\n",
      "출력 : 123456789\n"
     ]
    }
   ],
   "source": [
    "#barcode = [\n",
    "#    '||:::',':::||','::|:|','::||:',':|::|',':|:|:',':||::','|:::|','|::|:','|:|::'\n",
    "#]\n",
    "\n",
    "def barcode(code):\n",
    "    if code=='||:::':number='0'\n",
    "    elif code==':::||':number='1'\n",
    "    elif code=='::|:|':number='2'\n",
    "    elif code=='::||:':number='3'\n",
    "    elif code==':|::|':number='4'\n",
    "    elif code==':|:|:':number='5'\n",
    "    elif code==':||::':number='6'\n",
    "    elif code=='|:::|':number='7'\n",
    "    elif code=='|::|:':number='8'\n",
    "    elif code=='|:|::':number='9'\n",
    "    else : print('바꾸지 못하였습니다.')\n",
    "    return number\n",
    "    \n",
    "def number(number):\n",
    "    if number== '0' : code ='||:::'\n",
    "    elif number=='1': code =':::||'\n",
    "    elif number=='2': code ='::|:|'\n",
    "    elif number=='3': code ='::||:'\n",
    "    elif number=='4' : code =':|::|'\n",
    "    elif number=='5' : code =':|:|:'\n",
    "    elif number=='6' : code =':||::'\n",
    "    elif number=='7': code ='|:::|'\n",
    "    elif number=='8' : code ='|::|:'\n",
    "    elif number=='9' : code ='|:|::'\n",
    "    else : print('바꾸지 못하였습니다.')\n",
    "    return code\n",
    "\n",
    "numbers = input('입력 : ')\n",
    "num=''\n",
    "for i in list(numbers): #10번\n",
    "    num = num + number(i)\n",
    "print('출력 : {}'.format(num))\n",
    "\n",
    "print('-'*50)\n",
    "\n",
    "barinput = list(input('입력 : '))\n",
    "bar=''\n",
    "bar2= ''\n",
    "char2 = []\n",
    "for char in barinput: #10번\n",
    "    bar = bar + char\n",
    "    if len(bar) == 5 : \n",
    "        bar2 = bar2 + barcode(bar)\n",
    "        bar =''\n",
    "        \n",
    "print('출력 : {}'.format(bar2))"
   ]
  },
  {
   "cell_type": "code",
   "execution_count": 51,
   "id": "bb80404f",
   "metadata": {
    "scrolled": true
   },
   "outputs": [
    {
     "name": "stdout",
     "output_type": "stream",
     "text": [
      "\t 1 \t 2 \t 3 \t 4 \t 5 \t 6 \t 7 \t 8 \t 9 \t 10 \t 11 \t 12 \n",
      "\n",
      "--------------------------------------------------------------------------------------------------------------\n",
      "A\n",
      " \n",
      "B\n",
      " \n",
      "C\n",
      " \n",
      "D\n",
      " \n",
      "E\n",
      " \n",
      "F\n",
      " \n",
      "G\n",
      " \n",
      "H\n",
      " \n"
     ]
    }
   ],
   "source": [
    "seatName = ['EC','RE','SP']\n",
    "seatNumber = ['1','2','3','4','5','6','7','8','9','10','11','12']\n",
    "seatAl = ['A','B','C','D','E','F','G','H']\n",
    "for i in range(1,len(seatNumber)+1):\n",
    "    print('\\t', i, end=' ')\n",
    "\n",
    "print('\\n')\n",
    "print('-'*110)\n",
    "\n",
    "for i in range (65,73):\n",
    "    print(chr(i))\n",
    "    print(' ')\n",
    "for i"
   ]
  },
  {
   "cell_type": "code",
   "execution_count": 2,
   "id": "0686b8cf",
   "metadata": {},
   "outputs": [
    {
     "name": "stdout",
     "output_type": "stream",
     "text": [
      "원하는 좌석을 선택해 주세요:  G12\n",
      "SP 좌석입니다\n",
      "좌석번호: G12\n",
      "티켓가격: 10,000 원\n"
     ]
    }
   ],
   "source": [
    "selectSeat = input('원하는 좌석을 선택해 주세요:  ')\n",
    "\n",
    "EC = '7,000 원'\n",
    "RE = '8,000 원'\n",
    "SP = '10,000 원'\n",
    "\n",
    "seat = list(selectSeat)\n",
    "row = ['C','D','E','F']\n",
    "\n",
    "while True:\n",
    "    if seat[0] == 'A' or seat[0] == 'B':\n",
    "        print(\"EC 좌석입니다\")\n",
    "        print('좌석번호: {}'.format(selectSeat))\n",
    "        print('티켓가격: {}'.format(EC))\n",
    "        break\n",
    "    elif seat[0] == row[0] or seat[0] == row[1] or seat[0] == row[2] or seat[0] == row[3]:\n",
    "        if(seat[1]=='0'or seat[1]=='1'):\n",
    "            print(\"EC 좌석입니다\")\n",
    "            print('좌석번호: {}'.format(selectSeat))\n",
    "            print('티켓가격: {}'.format(EC))\n",
    "            break\n",
    "        else:\n",
    "            print(\"RE 좌석입니다\")\n",
    "            print('좌석번호: {}'.format(selectSeat))\n",
    "            print('티켓가격: {}'.format(RE)) \n",
    "            break\n",
    "    elif seat[0] == 'G' or seat[0] =='H':\n",
    "        print(\"SP 좌석입니다\")\n",
    "        print('좌석번호: {}'.format(selectSeat))\n",
    "        print('티켓가격: {}'.format(SP))\n",
    "        break\n",
    "    else:\n",
    "        print('잘못된 입력입니다.다시입력하세요')\n",
    "        selectSeat = input('원하는 좌석을 선택해 주세요:  ')\n",
    "        seat = list(selectSeat)"
   ]
  },
  {
   "cell_type": "code",
   "execution_count": 54,
   "id": "b5276a31",
   "metadata": {},
   "outputs": [
    {
     "name": "stdout",
     "output_type": "stream",
     "text": [
      "EC : 7000원, RE : 8000원, SP: 10000원\n",
      "\n",
      "- 좌석배치도\n",
      "\n",
      "   |  1   |  2   |  3   |  4   |  5   |  6   |  7   |  8   |  9   |  10  |  11  |  12  |\n",
      "--------------------------------------------------------------------------------------------\n",
      "A  |  EC  |  EC  |  EC  |  EC  |  EC  |  EC  |  EC  |  EC  |  EC  |  EC  |  EC  |  EC  |\n",
      "--------------------------------------------------------------------------------------------\n",
      "B  |  EC  |  EC  |  EC  |  EC  |  EC  |  EC  |  EC  |  EC  |  EC  |  EC  |  EC  |  EC  |\n",
      "--------------------------------------------------------------------------------------------\n",
      "C  |  EC  |  EC  |  RE  |  RE  |  RE  |  RE  |  RE  |  RE  |  RE  |  RE  |  EC  |  EC  |\n",
      "--------------------------------------------------------------------------------------------\n",
      "D  |  EC  |  EC  |  RE  |  RE  |  RE  |  RE  |  RE  |  RE  |  RE  |  RE  |  EC  |  EC  |\n",
      "--------------------------------------------------------------------------------------------\n",
      "E  |  EC  |  EC  |  RE  |  RE  |  RE  |  RE  |  RE  |  RE  |  RE  |  RE  |  EC  |  EC  |\n",
      "--------------------------------------------------------------------------------------------\n",
      "F  |  EC  |  EC  |  RE  |  RE  |  RE  |  RE  |  RE  |  RE  |  RE  |  RE  |  EC  |  EC  |\n",
      "--------------------------------------------------------------------------------------------\n",
      "G  |  SP  |  SP  |  SP  |  SP  |  SP  |  SP  |  SP  |  SP  |  SP  |  SP  |  SP  |  SP  |\n",
      "--------------------------------------------------------------------------------------------\n",
      "H  |  SP  |  SP  |  SP  |  SP  |  SP  |  SP  |  SP  |  SP  |  SP  |  SP  |  SP  |  SP  |\n",
      "--------------------------------------------------------------------------------------------\n",
      "원하는 좌석을 선택해주세요. (예 : F11) : G12\n",
      "좌석번호 : G12\n",
      "티켓 가격 : 10000\n"
     ]
    }
   ],
   "source": [
    "seatList = {    \n",
    "    ' ': ['1 ',  '2 ',  '3 ',  '4 ',  '5 ',  '6 ',  '7 ',  '8 ',  '9 ',  '10', '11', '12'],\n",
    "    'A': ['EC', 'EC', 'EC', 'EC', 'EC', 'EC', 'EC', 'EC', 'EC', 'EC', 'EC', 'EC'],\n",
    "    'B': ['EC', 'EC', 'EC', 'EC', 'EC', 'EC', 'EC', 'EC', 'EC', 'EC', 'EC', 'EC'],\n",
    "    'C': ['EC', 'EC', 'RE', 'RE', 'RE', 'RE', 'RE', 'RE', 'RE', 'RE', 'EC', 'EC'],\n",
    "    'D': ['EC', 'EC', 'RE', 'RE', 'RE', 'RE', 'RE', 'RE', 'RE', 'RE', 'EC', 'EC'],\n",
    "    'E': ['EC', 'EC', 'RE', 'RE', 'RE', 'RE', 'RE', 'RE', 'RE', 'RE', 'EC', 'EC'],\n",
    "    'F': ['EC', 'EC', 'RE', 'RE', 'RE', 'RE', 'RE', 'RE', 'RE', 'RE', 'EC', 'EC'],\n",
    "    'G': ['SP', 'SP', 'SP', 'SP', 'SP', 'SP', 'SP', 'SP', 'SP', 'SP', 'SP', 'SP'],\n",
    "    'H': ['SP', 'SP', 'SP', 'SP', 'SP', 'SP', 'SP', 'SP', 'SP', 'SP', 'SP', 'SP']\n",
    "}\n",
    "\n",
    "price = {'EC':7000,'RE':8000,'SP':10000}\n",
    "\n",
    "state = 0\n",
    "\n",
    "print('EC : {}원, RE : {}원, SP: {}원\\n'.format(price['EC'],price['RE'],price['SP']))\n",
    "print('- 좌석배치도\\n')\n",
    "\n",
    "for key,value in seatList.items():\n",
    "    print(key+'  | ' + ' ',end='')\n",
    "    for col in range(len(value)):\n",
    "        if col == 11:\n",
    "            print(value[col]+'  |')\n",
    "        else:    \n",
    "            print(value[col]+'  | '+ ' ',end = '')\n",
    "    print('-'*92)    \n",
    "\n",
    "while state != 1:\n",
    "    seat = str(input('원하는 좌석을 선택해주세요. (예 : F11) : '))\n",
    "    if ord('H') < ord(seat[0]) or int(seat[1:]) > 12:\n",
    "                print('좌석번호가 잘못되었습니다. 다시 입력해주세요')    \n",
    "    for key,value in seatList.items():\n",
    "        if key == seat[0]:\n",
    "            print('좌석번호 : ' + seat)\n",
    "            print('티켓 가격 : ' + str(price[value[int(seat[1:])-1]]))\n",
    "            state = 1\n",
    "           "
   ]
  },
  {
   "cell_type": "code",
   "execution_count": 4,
   "id": "763fbd46",
   "metadata": {},
   "outputs": [
    {
     "name": "stdout",
     "output_type": "stream",
     "text": [
      "Index(['A', 'B', 'C'], dtype='object')\n",
      "Int64Index([1, 2, 3], dtype='int64')\n"
     ]
    }
   ],
   "source": [
    "import pandas as pd\n",
    "\n",
    "def df_maker(n_rows, n_cols, fill_value):\n",
    "    df = pd.DataFrame([[fill_value]*n_cols]*n_rows)\n",
    "    return df\n",
    "\n",
    "df = df_maker(3, 3, 0)\n",
    "col = [\"A\",\"B\",\"C\"]\n",
    "ind = [1,2,3]\n",
    "df.columns = col \n",
    "df.index = ind\n"
   ]
  },
  {
   "cell_type": "code",
   "execution_count": null,
   "id": "c2800210",
   "metadata": {},
   "outputs": [],
   "source": []
  },
  {
   "cell_type": "code",
   "execution_count": null,
   "id": "bd52b2c1",
   "metadata": {},
   "outputs": [],
   "source": []
  }
 ],
 "metadata": {
  "kernelspec": {
   "display_name": "Python 3 (ipykernel)",
   "language": "python",
   "name": "python3"
  },
  "language_info": {
   "codemirror_mode": {
    "name": "ipython",
    "version": 3
   },
   "file_extension": ".py",
   "mimetype": "text/x-python",
   "name": "python",
   "nbconvert_exporter": "python",
   "pygments_lexer": "ipython3",
   "version": "3.9.13"
  }
 },
 "nbformat": 4,
 "nbformat_minor": 5
}
